{
 "cells": [
  {
   "cell_type": "code",
   "execution_count": 38,
   "metadata": {},
   "outputs": [
    {
     "data": {
      "text/plain": [
       "<torch._C.Generator at 0x21750f2af30>"
      ]
     },
     "execution_count": 38,
     "metadata": {},
     "output_type": "execute_result"
    }
   ],
   "source": [
    "import csv\n",
    "import os\n",
    "import numpy as np\n",
    "import pandas as pd\n",
    "import torch\n",
    "from sklearn.model_selection import train_test_split\n",
    "import torch.nn as nn\n",
    "import torch.nn.functional as F\n",
    "from torchsummary import summary\n",
    "from torch.optim.lr_scheduler import ReduceLROnPlateau\n",
    "import torch.optim as optim\n",
    "from torch.utils.data import DataLoader, TensorDataset\n",
    "import torch.quantization\n",
    "import time\n",
    "\n",
    "RANDOM_SEED = 42\n",
    "torch.manual_seed(42)"
   ]
  },
  {
   "cell_type": "code",
   "execution_count": 12,
   "metadata": {},
   "outputs": [],
   "source": [
    "dataset = \"model/keypoint_classifier/keypoint.csv\"\n",
    "model_save_path = \"model/keypoint_classifier/keypoint_classifier.hdf5\"\n",
    "tflite_save_path = \"model/keypoint_classifier/keypoint_classifier.tflite\""
   ]
  },
  {
   "cell_type": "code",
   "execution_count": 13,
   "metadata": {},
   "outputs": [],
   "source": [
    "NUM_CLASSES = 4"
   ]
  },
  {
   "cell_type": "code",
   "execution_count": 14,
   "metadata": {},
   "outputs": [],
   "source": [
    "X_dataset = np.loadtxt(\n",
    "    dataset, delimiter=\",\", dtype=\"float32\", usecols=list(range(1, (21 * 2) + 1))\n",
    ")\n",
    "X_dataset = torch.from_numpy(X_dataset)"
   ]
  },
  {
   "cell_type": "code",
   "execution_count": 15,
   "metadata": {},
   "outputs": [],
   "source": [
    "y_dataset = np.loadtxt(dataset, delimiter=\",\", dtype=\"int32\", usecols=(0))\n",
    "y_dataset = torch.from_numpy(y_dataset)"
   ]
  },
  {
   "cell_type": "code",
   "execution_count": 18,
   "metadata": {},
   "outputs": [],
   "source": [
    "X_train, X_test, y_train, y_test = train_test_split(\n",
    "    X_dataset, y_dataset, train_size=0.75, random_state=RANDOM_SEED\n",
    ")"
   ]
  },
  {
   "cell_type": "code",
   "execution_count": 19,
   "metadata": {},
   "outputs": [],
   "source": [
    "class Model(nn.Module):\n",
    "    def __init__(self):\n",
    "        super(Model, self).__init__()\n",
    "        self.fc1 = nn.Linear(21 * 2, 20)\n",
    "        self.dropout1 = nn.Dropout(0.2)\n",
    "        self.fc2 = nn.Linear(20, 10)\n",
    "        self.dropout2 = nn.Dropout(0.4)\n",
    "        self.fc3 = nn.Linear(10, NUM_CLASSES)\n",
    "\n",
    "    def forward(self, x):\n",
    "        x = self.dropout1(F.relu(self.fc1(x)))\n",
    "        x = self.dropout2(F.relu(self.fc2(x)))\n",
    "        x = F.softmax(self.fc3(x), dim=1)\n",
    "        return x\n",
    "\n",
    "\n",
    "model = Model()"
   ]
  },
  {
   "cell_type": "code",
   "execution_count": 20,
   "metadata": {},
   "outputs": [
    {
     "name": "stdout",
     "output_type": "stream",
     "text": [
      "----------------------------------------------------------------\n",
      "        Layer (type)               Output Shape         Param #\n",
      "================================================================\n",
      "            Linear-1                   [-1, 20]             860\n",
      "           Dropout-2                   [-1, 20]               0\n",
      "            Linear-3                   [-1, 10]             210\n",
      "           Dropout-4                   [-1, 10]               0\n",
      "            Linear-5                    [-1, 4]              44\n",
      "================================================================\n",
      "Total params: 1,114\n",
      "Trainable params: 1,114\n",
      "Non-trainable params: 0\n",
      "----------------------------------------------------------------\n",
      "Input size (MB): 0.00\n",
      "Forward/backward pass size (MB): 0.00\n",
      "Params size (MB): 0.00\n",
      "Estimated Total Size (MB): 0.00\n",
      "----------------------------------------------------------------\n"
     ]
    }
   ],
   "source": [
    "summary(model, input_size=(21 * 2,))"
   ]
  },
  {
   "cell_type": "code",
   "execution_count": 63,
   "metadata": {},
   "outputs": [
    {
     "name": "stderr",
     "output_type": "stream",
     "text": [
      "c:\\Python310\\lib\\site-packages\\torch\\optim\\lr_scheduler.py:28: UserWarning: The verbose parameter is deprecated. Please use get_last_lr() to access the learning rate.\n",
      "  warnings.warn(\"The verbose parameter is deprecated. Please use get_last_lr() \"\n"
     ]
    }
   ],
   "source": [
    "# Define the number of epochs\n",
    "num_epochs = 1000  # replace 100 with the number of epochs you want\n",
    "\n",
    "# Define the optimizer\n",
    "optimizer = torch.optim.SGD(model.parameters(), lr=0.01, momentum=0.9)\n",
    "\n",
    "# Define the learning rate scheduler\n",
    "scheduler = torch.optim.lr_scheduler.ReduceLROnPlateau(\n",
    "    optimizer, mode=\"min\", factor=0.1, patience=10, verbose=True\n",
    ")\n",
    "\n",
    "# Initialize the minimum validation loss\n",
    "min_val_loss = np.inf\n",
    "\n",
    "for epoch in range(num_epochs):\n",
    "    # Training and validation steps go here\n",
    "\n",
    "    # After each epoch, you can save the model if it has the lowest validation loss so far\n",
    "    if val_loss < min_val_loss:\n",
    "        min_val_loss = val_loss\n",
    "        torch.save(model.state_dict(), model_save_path)\n",
    "\n",
    "    # Update the learning rate\n",
    "    scheduler.step(val_loss)"
   ]
  },
  {
   "cell_type": "code",
   "execution_count": 64,
   "metadata": {},
   "outputs": [],
   "source": [
    "# Define the loss function\n",
    "criterion = nn.CrossEntropyLoss()\n",
    "\n",
    "# Define the optimizer\n",
    "optimizer = optim.Adam(model.parameters())"
   ]
  },
  {
   "cell_type": "code",
   "execution_count": 65,
   "metadata": {},
   "outputs": [],
   "source": [
    "# Convert the numpy arrays to PyTorch tensors and create dataloaders\n",
    "train_data = TensorDataset(X_train, y_train)\n",
    "test_data = TensorDataset(X_test, y_test)\n",
    "\n",
    "train_loader = DataLoader(train_data, batch_size=128, shuffle=True)\n",
    "test_loader = DataLoader(test_data, batch_size=128)\n",
    "\n",
    "# Training loop\n",
    "for epoch in range(1000):\n",
    "    model.train()\n",
    "    for inputs, labels in train_loader:\n",
    "        labels = labels.long()  # Convert labels to Long\n",
    "        optimizer.zero_grad()\n",
    "        outputs = model(inputs)\n",
    "        loss = criterion(outputs, labels)\n",
    "        loss.backward()\n",
    "        optimizer.step()\n",
    "\n",
    "    # Validation\n",
    "    model.eval()\n",
    "    with torch.no_grad():\n",
    "        for inputs, labels in test_loader:\n",
    "            labels = labels.long()  # Convert labels to Long\n",
    "            outputs = model(inputs)\n",
    "            val_loss = criterion(outputs, labels)\n",
    "\n",
    "    # Save the model if validation loss decreases\n",
    "    if val_loss < min_val_loss:\n",
    "        min_val_loss = val_loss\n",
    "        torch.save(model.state_dict(), model_save_path)\n",
    "\n",
    "    # Update the learning rate\n",
    "    scheduler.step(val_loss)"
   ]
  },
  {
   "cell_type": "code",
   "execution_count": 66,
   "metadata": {},
   "outputs": [],
   "source": [
    "model.eval()\n",
    "with torch.no_grad():\n",
    "    inputs = X_test  # No need to convert to tensor\n",
    "    labels = y_test.long()  # Convert labels to Long\n",
    "    outputs = model(inputs)\n",
    "    val_loss = criterion(outputs, labels)\n",
    "    _, preds = torch.max(outputs, 1)\n",
    "    val_acc = torch.sum(preds == labels.data) / len(labels)"
   ]
  },
  {
   "cell_type": "code",
   "execution_count": 67,
   "metadata": {},
   "outputs": [
    {
     "data": {
      "text/plain": [
       "<All keys matched successfully>"
      ]
     },
     "execution_count": 67,
     "metadata": {},
     "output_type": "execute_result"
    }
   ],
   "source": [
    "# Define the model\n",
    "model = Model()\n",
    "\n",
    "# Load the saved model\n",
    "model.load_state_dict(torch.load(model_save_path))"
   ]
  },
  {
   "cell_type": "code",
   "execution_count": 68,
   "metadata": {},
   "outputs": [
    {
     "name": "stdout",
     "output_type": "stream",
     "text": [
      "tensor([1., 0., 0., 0.])\n",
      "0\n"
     ]
    }
   ],
   "source": [
    "# Inference test\n",
    "model.eval()\n",
    "with torch.no_grad():\n",
    "    inputs = torch.from_numpy(np.array([X_test[0]]))\n",
    "    outputs = model(inputs)\n",
    "    predict_result = torch.squeeze(outputs)\n",
    "    _, predicted_class = torch.max(predict_result, 0)\n",
    "\n",
    "print(predict_result)\n",
    "print(predicted_class.item())"
   ]
  },
  {
   "cell_type": "markdown",
   "metadata": {},
   "source": [
    "# Confusion Matrix\n"
   ]
  },
  {
   "cell_type": "code",
   "execution_count": 69,
   "metadata": {},
   "outputs": [
    {
     "data": {
      "image/png": "[encoded data removed]",
      "text/plain": [
       "<Figure size 700x600 with 2 Axes>"
      ]
     },
     "metadata": {},
     "output_type": "display_data"
    },
    {
     "name": "stdout",
     "output_type": "stream",
     "text": [
      "Classification Report\n",
      "              precision    recall  f1-score   support\n",
      "\n",
      "           0       0.99      0.98      0.98       402\n",
      "           1       0.98      0.99      0.98       366\n",
      "           2       0.99      0.99      0.99       343\n",
      "           3       1.00      1.00      1.00        86\n",
      "\n",
      "    accuracy                           0.99      1197\n",
      "   macro avg       0.99      0.99      0.99      1197\n",
      "weighted avg       0.99      0.99      0.99      1197\n",
      "\n"
     ]
    }
   ],
   "source": [
    "import pandas as pd\n",
    "import seaborn as sns\n",
    "import matplotlib.pyplot as plt\n",
    "from sklearn.metrics import confusion_matrix, classification_report\n",
    "\n",
    "\n",
    "def print_confusion_matrix(y_true, y_pred, report=True):\n",
    "    labels = sorted(list(set(y_true)))\n",
    "    cmx_data = confusion_matrix(y_true, y_pred, labels=labels)\n",
    "\n",
    "    df_cmx = pd.DataFrame(cmx_data, index=labels, columns=labels)\n",
    "\n",
    "    fig, ax = plt.subplots(figsize=(7, 6))\n",
    "    sns.heatmap(df_cmx, annot=True, fmt=\"g\", square=False)\n",
    "    ax.set_ylim(len(set(y_true)), 0)\n",
    "    plt.show()\n",
    "\n",
    "    if report:\n",
    "        print(\"Classification Report\")\n",
    "        print(classification_report(y_true, y_pred))\n",
    "\n",
    "\n",
    "model.eval()\n",
    "with torch.no_grad():\n",
    "    inputs = X_test  # No need to convert to tensor\n",
    "    outputs = model(inputs)\n",
    "    _, y_pred = torch.max(outputs, 1)\n",
    "\n",
    "print_confusion_matrix(y_test.numpy(), y_pred.numpy())"
   ]
  },
  {
   "cell_type": "code",
   "execution_count": 70,
   "metadata": {},
   "outputs": [],
   "source": [
    "torch.save(model.state_dict(), model_save_path)"
   ]
  },
  {
   "cell_type": "code",
   "execution_count": 71,
   "metadata": {},
   "outputs": [
    {
     "data": {
      "text/plain": [
       "Model(\n",
       "  (fc1): Linear(in_features=42, out_features=20, bias=True)\n",
       "  (dropout1): Dropout(p=0.2, inplace=False)\n",
       "  (fc2): Linear(in_features=20, out_features=10, bias=True)\n",
       "  (dropout2): Dropout(p=0.4, inplace=False)\n",
       "  (fc3): Linear(in_features=10, out_features=4, bias=True)\n",
       ")"
      ]
     },
     "execution_count": 71,
     "metadata": {},
     "output_type": "execute_result"
    }
   ],
   "source": [
    "# Save the entire model\n",
    "torch.save(model, model_save_path)\n",
    "\n",
    "# Load the entire model\n",
    "model = torch.load(model_save_path)\n",
    "\n",
    "# Set the model to evaluation mode\n",
    "model.eval()"
   ]
  },
  {
   "cell_type": "markdown",
   "metadata": {},
   "source": [
    "# Inferenece Test\n"
   ]
  },
  {
   "cell_type": "code",
   "execution_count": 72,
   "metadata": {},
   "outputs": [
    {
     "name": "stdout",
     "output_type": "stream",
     "text": [
      "True\n"
     ]
    }
   ],
   "source": [
    "import os\n",
    "print(os.path.exists(tflite_save_path))"
   ]
  },
  {
   "cell_type": "code",
   "execution_count": 73,
   "metadata": {},
   "outputs": [
    {
     "data": {
      "text/plain": [
       "Model(\n",
       "  (fc1): Linear(in_features=42, out_features=20, bias=True)\n",
       "  (dropout1): Dropout(p=0.2, inplace=False)\n",
       "  (fc2): Linear(in_features=20, out_features=10, bias=True)\n",
       "  (dropout2): Dropout(p=0.4, inplace=False)\n",
       "  (fc3): Linear(in_features=10, out_features=4, bias=True)\n",
       ")"
      ]
     },
     "execution_count": 73,
     "metadata": {},
     "output_type": "execute_result"
    }
   ],
   "source": [
    "# Load the quantized model\n",
    "model = torch.load(model_save_path)\n",
    "\n",
    "# Set the model to evaluation mode\n",
    "model.eval()\n"
   ]
  },
  {
   "cell_type": "code",
   "execution_count": 74,
   "metadata": {},
   "outputs": [],
   "source": [
    "# Get the input tensor\n",
    "input_tensor = next(iter(model.parameters())).data\n",
    "\n",
    "# Get the output tensor\n",
    "model.eval()\n",
    "with torch.no_grad():\n",
    "    output_tensor = model(input_tensor)"
   ]
  },
  {
   "cell_type": "code",
   "execution_count": 75,
   "metadata": {},
   "outputs": [],
   "source": [
    "# Set the input tensor\n",
    "inputs = torch.from_numpy(np.array([X_test[0]]))"
   ]
  },
  {
   "cell_type": "code",
   "execution_count": 61,
   "metadata": {},
   "outputs": [
    {
     "name": "stdout",
     "output_type": "stream",
     "text": [
      "Time taken: 0.006448984146118164 seconds\n"
     ]
    }
   ],
   "source": [
    "# Start the timer\n",
    "start_time = time.time()\n",
    "\n",
    "# Perform inference\n",
    "model.eval()\n",
    "with torch.no_grad():\n",
    "    outputs = model(inputs)\n",
    "\n",
    "# Print the time taken\n",
    "print(\"Time taken: %s seconds\" % (time.time() - start_time))"
   ]
  },
  {
   "cell_type": "code",
   "execution_count": 80,
   "metadata": {},
   "outputs": [
    {
     "name": "stdout",
     "output_type": "stream",
     "text": [
      "Model's output:\n",
      "tensor([[1.0000e+00, 0.0000e+00, 0.0000e+00, 0.0000e+00],\n",
      "        [1.0000e+00, 0.0000e+00, 0.0000e+00, 0.0000e+00],\n",
      "        [9.1100e-25, 1.0000e+00, 1.1494e-19, 5.0518e-35],\n",
      "        ...,\n",
      "        [1.9133e-11, 1.0000e+00, 1.0122e-13, 1.6292e-21],\n",
      "        [0.0000e+00, 1.0000e+00, 0.0000e+00, 0.0000e+00],\n",
      "        [1.0000e+00, 1.6675e-43, 0.0000e+00, 0.0000e+00]])\n",
      "\n",
      "Predicted classes:\n",
      "tensor([0, 0, 1,  ..., 1, 1, 0])\n",
      "\n",
      "Confidence scores:\n",
      "tensor([1., 1., 1.,  ..., 1., 1., 1.])\n",
      "\n",
      "Squeezed output:\n",
      "[[1.0, 0.0, 0.0, 0.0], [1.0, 0.0, 0.0, 0.0], [9.10999548923089e-25, 1.0, 1.1493584138544822e-19, 5.051800045113425e-35], [1.0, 0.0, 1.401298464324817e-45, 0.0], [0.0, 1.0, 0.0, 0.0], [0.0017576829995959997, 0.00038453267188742757, 0.0006573953432962298, 0.9972003698348999], [9.805921643121083e-36, 1.0, 4.3285663950081944e-38, 0.0], [2.301403129008274e-15, 3.452360342048877e-10, 1.0, 1.4372750404188438e-19], [1.0, 0.0, 0.0, 0.0], [1.0, 2.662436446469606e-35, 5.983544442666969e-43, 0.0], [1.0, 2.3859681809155815e-32, 0.0, 0.0], [1.719354658646921e-09, 4.6575300416407117e-07, 0.9999995231628418, 2.410693389701124e-12], [7.359191566872547e-35, 1.0, 5.9902166860684945e-36, 0.0], [0.0, 1.0, 0.0, 0.0], [0.0, 1.0, 0.0, 0.0], [1.0, 1.9805368683988973e-24, 5.222613034817957e-34, 1.4447387167188864e-42], [1.1574108743998686e-39, 1.0, 4.620081036878922e-41, 0.0], [1.0, 3.166066612188912e-35, 0.0, 0.0], [1.0, 0.0, 0.0, 0.0], [1.0, 4.672528055558686e-34, 1.6867828985140156e-38, 0.0], [9.014164414899994e-11, 6.423088905194163e-08, 0.9999998807907104, 5.4187723237545185e-14], [3.7604195313178934e-09, 2.522624242828897e-07, 0.9999997615814209, 4.411371441748191e-12], [4.895475877408734e-20, 6.97004676197821e-11, 1.0, 1.11303777219525e-24], [0.0, 1.0, 0.0, 0.0], [2.5052030280430758e-29, 9.472651087599803e-16, 1.0, 3.5357885711009965e-36], [1.0, 1.2100212239444795e-41, 0.0, 0.0], [2.802596928649634e-45, 1.0, 0.0, 0.0], [0.0013053504517301917, 0.0008350645657628775, 0.00013657650561071932, 0.9977230429649353], [2.123825795050403e-16, 1.9232302417293567e-09, 1.0, 1.963150009594088e-20], [1.0, 0.0, 0.0, 0.0], [1.0, 0.0, 0.0, 0.0], [1.0, 0.0, 0.0, 0.0], [0.0, 1.0, 0.0, 0.0], [0.0, 1.0, 0.0, 0.0], [2.723755507533668e-20, 1.612444622267617e-10, 1.0, 1.0745300201449521e-24], [1.0, 0.0, 0.0, 0.0], [1.0, 3.823910152472039e-24, 1.5676354842116743e-25, 2.5330885581223565e-38], [0.0, 1.0, 0.0, 0.0], [1.0, 8.098802488464834e-31, 1.7517299994788493e-38, 0.0], [1.0, 3.1854084075486664e-38, 0.0, 0.0], [1.0, 0.0, 0.0, 0.0], [1.0, 0.0, 0.0, 0.0], [0.0, 1.0, 0.0, 0.0], [0.001774810953065753, 0.00036586489295586944, 0.0007298296550288796, 0.997129499912262], [0.0, 1.0, 0.0, 0.0], [9.550333537983679e-16, 5.182893558774992e-10, 1.0, 6.285891523867361e-20], [1.0, 1.3746573423026722e-27, 5.4426432354375895e-42, 0.0], [1.0, 4.903036308042496e-31, 8.753202167112413e-35, 0.0], [0.0, 1.0, 0.0, 0.0], [1.2460918378956672e-31, 5.061703456669188e-17, 1.0, 4.993734469794206e-39], [0.0, 1.0, 0.0, 0.0], [0.0, 1.0, 0.0, 0.0], [1.5314954637801748e-08, 3.213151285308413e-05, 0.9999678134918213, 6.009485270519477e-11], [1.0, 0.0, 0.0, 0.0], [1.0, 0.0, 0.0, 0.0], [1.0, 0.0, 0.0, 0.0], [8.340462415744892e-26, 2.4016599391727192e-14, 1.0, 5.568659984195616e-32], [1.0, 0.0, 0.0, 0.0], [1.0, 0.0, 0.0, 0.0], [7.723204433648623e-19, 2.1893271917594603e-11, 1.0, 1.3208283100237149e-23], [1.0, 9.663408192373376e-27, 1.2133572649304508e-35, 0.0], [5.847918581559724e-24, 2.0303828334334445e-13, 1.0, 9.945565427391986e-30], [1.0, 2.270813874118282e-35, 6.143851585687264e-39, 0.0], [0.0016285928431898355, 0.00048441937542520463, 0.0004098467470612377, 0.997477114200592], [0.0, 1.0, 1.401298464324817e-45, 0.0], [8.043601592080951e-13, 0.0006569798570126295, 0.9993429780006409, 1.6391608122917622e-13], [1.0, 1.401298464324817e-45, 0.0, 0.0], [1.5954981062128986e-30, 3.7621883147882784e-15, 1.0, 3.6352583412926293e-37], [1.0, 0.0, 0.0, 0.0], [1.0, 7.42688186092153e-44, 0.0, 0.0], [0.0, 1.0, 0.0, 0.0], [0.0, 1.0, 0.0, 0.0], [1.0, 0.0, 0.0, 0.0], [0.0019635141361504793, 0.00025822126190178096, 0.001495114527642727, 0.9962831139564514], [2.474373651936354e-14, 1.3455023761821394e-09, 1.0, 2.81154926534987e-18], [0.0, 1.0, 0.0, 0.0], [1.0, 3.395756419751464e-30, 3.9424065729262214e-31, 0.0], [0.0, 1.0, 0.0, 0.0], [1.2488146694522584e-07, 1.1301712220301852e-05, 0.9999885559082031, 1.4951644367044992e-09], [0.0, 1.0, 0.0, 0.0], [3.43469171774628e-18, 3.377141621907498e-11, 1.0, 7.258254284219526e-23], [1.0, 0.0, 0.0, 0.0], [1.0, 0.0, 0.0, 0.0], [2.0150154890609134e-29, 1.0, 2.025057077142361e-28, 1.4153114489680652e-43], [1.7670104859543444e-17, 7.845726845978618e-11, 1.0, 5.602759245111615e-22], [1.0, 0.0, 1.6815581571897805e-44, 0.0], [2.4275283912254423e-18, 3.33026106691392e-11, 1.0, 5.2501479499175576e-23], [6.437435283588919e-28, 1.0, 4.272189765794611e-28, 1.9239827915179738e-42], [1.0, 0.0, 0.0, 0.0], [1.802123074463359e-39, 1.0, 5.411142565691079e-32, 0.0], [6.735637760301718e-17, 3.305865858838075e-10, 1.0, 3.056855041367342e-21], [0.0014170843642205, 0.0006758529925718904, 0.00020967380260117352, 0.9976974129676819], [1.3078350251730098e-12, 8.433057807621935e-09, 1.0, 3.3236786697804575e-16], [0.0, 1.0, 0.0, 0.0], [1.0, 0.0, 0.0, 0.0], [1.44082264341705e-07, 2.0230629161233082e-05, 0.9999796152114868, 2.629001460974223e-09], [0.0, 1.0, 0.0, 0.0], [2.0094886719736297e-29, 1.0, 5.489573734865994e-22, 5.3193289705770056e-42], [0.0, 1.0, 0.0, 0.0], [2.685393667434255e-07, 1.050564787874464e-05, 0.9999892711639404, 2.53275089789895e-09], [0.0, 1.0, 0.0, 0.0], [1.0, 1.5698751687899713e-23, 7.58210109179102e-24, 8.45910386942718e-36], [1.0177239368188091e-26, 2.1923503052030668e-13, 1.0, 1.5449104952362783e-32], [1.4025981265319842e-08, 0.00017059115634765476, 0.9998294115066528, 1.50157261624706e-10], [1.637037199049042e-14, 1.7872475055469295e-08, 1.0, 4.991369116364417e-18], [0.0, 1.0, 4.610412077475081e-41, 0.0], [3.167788343887612e-16, 2.147938271690464e-09, 1.0, 3.800504588829614e-20], [1.0, 9.342535696945576e-29, 3.0428094732220443e-38, 0.0], [7.720640099462273e-12, 1.0697597474518261e-08, 1.0, 2.1922644160622153e-15], [0.0014475126517936587, 0.0006280085653997958, 0.0002440235111862421, 0.9976804256439209], [7.610483966115356e-13, 4.752748949954366e-08, 1.0, 3.2930867514013883e-16], [0.0, 1.0, 0.0, 0.0], [1.0, 0.0, 0.0, 0.0], [1.851385884876766e-11, 1.929137960487992e-09, 1.0, 1.047319049239602e-16], [1.0, 3.5540923440361655e-17, 1.0385389315975355e-23, 1.2116647355512138e-27], [1.0, 7.202762526484915e-22, 9.1014039124295e-35, 3.058473187456267e-38], [2.8435719084036353e-19, 4.920962248800009e-11, 1.0, 5.034053152225922e-24], [1.0, 3.077905396835017e-36, 2.7620254144717306e-38, 0.0], [0.0, 1.0, 0.0, 0.0], [1.0, 9.274894220701047e-13, 1.0221672466781406e-11, 3.2028178546424565e-17], [8.295922976353509e-12, 2.4055092140429224e-08, 1.0, 3.123094968063094e-15], [1.0, 4.499930027227521e-24, 2.3934347520158534e-24, 8.074188705221565e-38], [0.0, 1.0, 0.0, 0.0], [9.631921869045581e-16, 5.786715551181487e-09, 1.0, 1.7510988345213955e-19], [1.0, 1.961817850054744e-44, 0.0, 0.0], [1.0, 0.0, 0.0, 0.0], [2.8516798831370433e-16, 3.1718263571178795e-09, 1.0, 3.9640992651250084e-20], [1.0, 2.939463069068029e-17, 2.3611058516133122e-24, 4.930182768329538e-28], [1.0, 1.5416557864777215e-31, 1.2301192070392118e-38, 0.0], [0.0018657363252714276, 0.0003202623629476875, 0.0009556254372000694, 0.9968583583831787], [1.0, 0.0, 0.0, 0.0], [3.557535896926224e-18, 1.2940599980471035e-10, 1.0, 1.0053934418289548e-22], [3.855339529009096e-18, 9.713380794140747e-11, 1.0, 9.845830387137348e-23], [0.0, 1.0, 0.0, 0.0], [1.2701751109234216e-11, 1.4322469610306143e-07, 0.9999998807907104, 9.345738023530323e-15], [0.0014495081268250942, 0.0006338265957310796, 0.00023901971871964633, 0.9976776242256165], [0.0, 1.0, 0.0, 0.0], [1.0, 3.2229864679470793e-44, 5.183343604482611e-38, 0.0], [2.6740373233773896e-37, 1.0, 2.0880697970159383e-38, 0.0], [1.0, 0.0, 0.0, 0.0], [1.7443681378666725e-38, 1.0, 7.2126446147009515e-34, 0.0], [1.0, 0.0, 0.0, 0.0], [1.0, 0.0, 0.0, 0.0], [2.030506873751392e-09, 5.873895588592859e-06, 0.999994158744812, 7.665028334269408e-12], [9.021575153589367e-12, 1.525248016776004e-08, 1.0, 3.040153290109716e-15], [2.997168335908931e-22, 1.0, 2.518270254773087e-23, 1.3307035943334891e-33], [1.0, 1.7113913578746464e-17, 1.4392849060076277e-24, 2.058893981076543e-28], [5.09617200420755e-24, 1.4984452480909516e-12, 1.0, 2.2114075307782177e-29], [4.441194333752841e-18, 1.0, 1.4130294202373313e-18, 7.828950675880801e-27], [1.118726218976053e-14, 6.9484840103939405e-09, 1.0, 1.9731675933271085e-18], [1.7902407367640692e-18, 1.8204532326038247e-10, 1.0, 6.651889722989792e-23], [1.0, 1.114467043005104e-21, 4.989843572013547e-34, 1.0617612680297395e-37], [1.5031264516760928e-37, 2.6914081573153845e-19, 1.0, 0.0], [4.143293425229932e-15, 2.9158311008359306e-05, 0.9999707937240601, 9.411171318705717e-18], [5.427789471715746e-41, 1.0, 1.1210387714598537e-44, 0.0], [0.0, 1.0, 0.0, 0.0], [1.0, 1.9898438193412402e-43, 0.0, 0.0], [1.5073579159562427e-15, 1.9389576610961967e-09, 1.0, 1.5136124372240656e-19], [8.538782969570952e-16, 7.173306393326584e-09, 1.0, 1.6591217787782687e-19], [1.0, 0.0, 0.0, 0.0], [9.39204340966171e-08, 2.0134357328061014e-05, 0.9999797344207764, 1.8895869313695357e-09], [1.0, 0.0, 0.0, 0.0], [1.0, 0.0, 0.0, 0.0], [4.126468532857728e-25, 3.0225794740365575e-13, 1.0, 7.855380177901074e-31], [1.0, 0.0, 0.0, 0.0], [9.122881271793576e-21, 6.39234221111451e-11, 1.0, 2.0610817854932586e-25], [1.0, 8.108024659728131e-36, 1.364555017291756e-39, 0.0], [1.0, 0.0, 0.0, 0.0], [1.0, 5.685440861785823e-35, 2.216676065527045e-38, 0.0], [0.0, 1.0, 0.0, 0.0], [1.0, 4.484155085839415e-44, 0.0, 0.0], [1.3697616276636942e-14, 1.0202580114082593e-08, 1.0, 2.9418848057474003e-18], [4.076906616909683e-22, 1.6766690032893328e-12, 1.0, 1.6808956108997978e-27], [1.4787767545322817e-17, 5.40682602856446e-11, 1.0, 3.927489040831623e-22], [1.703673552060081e-12, 6.51775806659316e-08, 0.9999998807907104, 8.581886358674355e-16], [5.4290612803986615e-12, 1.0264908212320734e-07, 0.9999998807907104, 3.4029400425175747e-15], [0.0, 1.0, 0.0, 0.0], [1.34690454345332e-08, 5.379375579650514e-05, 0.9999462366104126, 6.049791223539103e-11], [2.769922712789271e-27, 5.500829318146137e-15, 1.0, 9.37904167318056e-34], [5.321244378262791e-30, 4.158885607722989e-15, 1.0, 1.3749605103788341e-36], [1.0, 2.3772519316302075e-35, 8.856206294532844e-43, 0.0], [1.0, 0.0, 0.0, 0.0], [3.511631198561737e-30, 8.071788612398594e-15, 1.0, 1.272523395400698e-36], [4.003541747253647e-13, 1.1461511739696562e-08, 1.0, 4.16283374740415e-17], [1.0, 2.802596928649634e-45, 0.0, 0.0], [2.073283603785535e-15, 4.697088940019967e-09, 1.0, 2.9452631664654317e-19], [3.44666890445281e-29, 1.0, 1.6502637673566917e-29, 2.2420775429197073e-44], [1.0, 0.0, 0.0, 0.0], [4.187591753630116e-21, 2.4250367339218037e-12, 1.0, 2.764213601617926e-26], [0.0, 1.0, 0.0, 0.0], [1.0, 1.1140807763162294e-20, 4.9014755306539824e-27, 8.071186658455683e-34], [1.0, 2.37712067592669e-39, 2.382207389352189e-44, 0.0], [2.1032798966509144e-26, 1.0, 1.9570765631739042e-22, 3.341158527962977e-38], [1.4742878974361038e-39, 1.0, 2.6060087670895056e-40, 0.0], [2.8363782805077796e-19, 1.0, 3.0742035116635265e-17, 1.3977652275544136e-27], [0.0027537744026631117, 0.004384926520287991, 3.728216324816458e-05, 0.9928239583969116], [1.0, 0.0, 0.0, 0.0], [0.0017613687086850405, 0.0003815190866589546, 0.000668196240440011, 0.9971888661384583], [1.0, 0.0, 0.0, 0.0], [1.0, 6.171840765737345e-20, 7.526212663238827e-20, 1.906504194943287e-30], [1.0132992392136566e-20, 4.257939487106732e-12, 1.0, 7.823581029121454e-26], [0.0, 1.0, 0.0, 0.0], [4.5240127121641115e-15, 1.0353264912055238e-09, 1.0, 4.0988536431288883e-19], [1.0, 1.0084212612537159e-35, 0.0, 0.0], [0.0, 1.0, 0.0, 0.0], [1.0, 4.4444719180861545e-30, 5.458078291877886e-32, 0.0], [8.950279516280971e-15, 6.055318024777989e-09, 1.0, 1.4851925534788808e-18], [1.0, 0.0, 0.0, 0.0], [1.0, 1.8523579158788744e-29, 1.6632889246429307e-37, 0.0], [0.0, 1.0, 0.0, 0.0], [0.0, 1.0, 0.0, 0.0], [0.0, 1.0, 0.0, 0.0], [1.0, 1.0677327926439885e-28, 1.7432581133011422e-37, 0.0], [3.0509446486764135e-16, 1.0, 2.1152364582111005e-11, 3.9077622170558147e-22], [2.8624290280263274e-29, 1.3146105924899615e-15, 1.0, 4.940102898770346e-36], [1.4009519455973618e-12, 6.036731292624609e-08, 0.9999998807907104, 6.801350576349707e-16], [1.0, 6.276082067541019e-23, 1.2666342648433633e-36, 2.0727025975367667e-40], [3.7442095322630375e-13, 3.5993107161402804e-08, 1.0, 1.4172577772771615e-16], [0.0, 1.0, 0.0, 0.0], [1.3408191223973631e-09, 1.723058602465244e-07, 0.9999998807907104, 1.324528919703638e-12], [1.0, 2.6976088582834468e-17, 3.606373080387387e-24, 5.598106347140212e-28], [1.0, 1.793662034335766e-43, 2.5685800851073897e-42, 0.0], [1.358238263804555e-34, 1.0, 4.203895392974451e-44, 0.0], [0.0016866747755557299, 0.00042763559031300247, 0.000530326971784234, 0.9973553419113159], [1.0, 5.9074565551830644e-21, 1.0628978562595761e-26, 4.334226291521801e-34], [1.0, 1.0174902337976875e-20, 1.3291143737057017e-20, 1.379607777646245e-32], [2.18951978446765e-18, 3.590872876824136e-10, 1.0, 1.0259938186167687e-22], [4.553040876532431e-25, 1.6936841198186142e-13, 1.0, 6.783654236589715e-31], [1.0, 0.0, 0.0, 0.0], [0.0, 1.0, 0.0, 0.0], [1.0, 0.0, 0.0, 0.0], [0.0, 1.383466548025341e-23, 1.0, 0.0], [1.0, 0.0, 0.0, 0.0], [4.0494287068502943e-13, 4.558717847658045e-09, 1.0, 7.930952126621266e-17], [2.7014747047433146e-14, 1.8354576525325683e-08, 1.0, 8.349346036150998e-18], [0.0, 1.0, 0.0, 0.0], [1.0, 0.0, 0.0, 0.0], [1.0, 1.929475881498127e-40, 0.0, 0.0], [1.971605557038892e-15, 8.771564030674028e-10, 1.0, 1.483668499049646e-19], [0.0, 1.0, 0.0, 0.0], [3.5717224022846494e-07, 7.935348548926413e-06, 0.9999916553497314, 1.8143969660044945e-09], [0.0016050380654633045, 0.0005191233358345926, 0.0003544971696101129, 0.9975213408470154], [1.0, 0.0, 0.0, 0.0], [1.0, 8.509422389779881e-23, 6.723881169200261e-24, 8.021026311344336e-36], [1.0, 0.0, 0.0, 0.0], [2.282587719805255e-30, 1.0, 3.6994814964728592e-31, 2.802596928649634e-45], [1.0, 0.0, 0.0, 0.0], [0.0, 1.0, 0.0, 0.0], [0.0, 1.0, 0.0, 0.0], [1.0, 0.0, 0.0, 0.0], [1.0, 0.0, 0.0, 0.0], [9.841501283753553e-40, 1.0, 7.153771032302167e-38, 0.0], [0.0, 1.0, 0.0, 0.0], [0.0019208519952371716, 0.000297874299576506, 0.0011056638322770596, 0.9966756105422974], [1.0, 2.4872009462560307e-33, 0.0, 0.0], [0.0, 1.0, 0.0, 0.0], [1.0, 1.775593620871872e-30, 1.5445589236304776e-37, 0.0], [1.0, 2.904050937466751e-41, 5.605193857299268e-45, 0.0], [0.0015370966866612434, 0.0005420136731117964, 0.0003284119884483516, 0.9975925087928772], [0.0015564218629151583, 0.0005695984000340104, 0.0002931529888883233, 0.9975807666778564], [1.0, 0.0, 0.0, 0.0], [1.297558322175968e-27, 1.0, 7.177267905771461e-26, 6.253588669727004e-40], [1.0, 5.1226744395938874e-26, 6.1774969425271525e-34, 2.550363205071167e-43], [1.0, 0.0, 0.0, 0.0], [1.0, 0.0, 0.0, 0.0], [6.634564317202496e-13, 3.874851017826586e-08, 1.0, 2.6430432274318963e-16], [0.0, 1.0, 0.0, 0.0], [1.0, 6.1740228358295384e-30, 3.471923496758376e-38, 0.0], [0.0, 1.0, 0.0, 0.0], [0.0018941806629300117, 0.0003131368139293045, 0.0009973942069336772, 0.9967952370643616], [0.0016624171985313296, 0.00041049564606510103, 0.0005833062459714711, 0.9973438382148743], [1.0, 7.01152701384125e-30, 5.620605667305628e-32, 0.0], [4.043111873942851e-15, 7.727162909532126e-09, 1.0, 8.480824843552653e-19], [0.0, 1.0, 0.0, 0.0], [7.543949251594445e-27, 7.632067043237753e-14, 1.0, 8.01660257827525e-33], [5.613387397221143e-16, 1.9981262477930528e-10, 1.0, 2.7417483014438304e-20], [1.0, 0.0, 0.0, 0.0], [1.0, 0.0, 0.0, 0.0], [4.817623977835606e-15, 1.797407556125563e-08, 1.0, 1.4080146377737286e-18], [1.0, 3.3140708681281924e-42, 0.0, 0.0], [1.0, 0.0, 0.0, 0.0], [1.401298464324817e-45, 1.0, 0.0, 0.0], [1.0, 0.0, 0.0, 0.0], [0.0, 1.0, 0.0, 0.0], [1.695310836923897e-23, 8.175153398204751e-14, 1.0, 2.511230887842454e-29], [0.0017590726492926478, 0.000341245875461027, 0.0008526319870725274, 0.9970470070838928], [0.0018387446179986, 0.00036077050026506186, 0.0007415962754748762, 0.9970588684082031], [0.0, 1.0, 0.0, 0.0], [2.4069979408063158e-14, 2.771328766471015e-08, 1.0, 8.767279867824027e-18], [1.0, 0.0, 0.0, 0.0], [1.0, 8.837806883050387e-23, 9.655817717276558e-27, 2.389049537389917e-37], [1.0, 2.0415331920752154e-19, 1.4797296459184275e-18, 2.5548282241788586e-29], [0.0, 1.0, 0.0, 0.0], [0.0, 1.0, 0.0, 0.0], [1.0, 0.0, 0.0, 0.0], [1.6392713575452689e-10, 3.7816230360476766e-06, 0.9999961853027344, 4.771047380953963e-13], [1.0, 0.0, 0.0, 0.0], [1.0, 3.5160382515478135e-24, 3.0875238958359085e-29, 1.2958045120350519e-39], [1.0, 6.05360936588321e-43, 6.346480744927097e-42, 0.0], [1.0, 9.80908925027372e-45, 1.4195153443610397e-42, 0.0], [2.6239396785653977e-28, 2.9072007117197235e-14, 1.0, 1.7095365872577188e-34], [0.0, 1.0, 0.0, 0.0], [0.0016622667899355292, 0.00044868321856483817, 0.0004804117779713124, 0.9974086880683899], [1.0, 0.0, 0.0, 0.0], [1.0, 1.074045055748997e-34, 0.0, 0.0], [1.0, 0.0, 0.0, 0.0], [7.049478143576078e-22, 1.4458181180065921e-11, 1.0, 6.57465567360357e-27], [1.0, 5.818597881270843e-29, 2.129791609077237e-36, 0.0], [7.45818185178158e-15, 3.80091735863175e-09, 1.0, 1.1584707905787312e-18], [1.3342159616660085e-18, 2.5022856009471184e-10, 1.0, 4.647010460878901e-23], [1.0, 0.0, 0.0, 0.0], [1.0, 0.0, 0.0, 0.0], [0.0, 1.0, 0.0, 0.0], [1.0, 0.0, 0.0, 0.0], [2.0350252193589838e-19, 1.0, 1.805370655989246e-17, 2.8016543345529952e-27], [1.2229899084559293e-06, 0.0017898841761052608, 0.99820876121521, 1.188531300044815e-07], [1.0, 0.0, 0.0, 0.0], [1.0, 6.104056110598903e-42, 7.973388262008209e-43, 0.0], [1.1824340632427688e-24, 1.4714568539325734e-12, 1.0, 4.3844555023523796e-30], [5.299265546369241e-15, 1.037218488875169e-08, 1.0, 1.2699358596620893e-18], [1.0, 0.0, 0.0, 0.0], [1.0, 1.5299145489254125e-17, 6.126460929059286e-17, 5.313547039331889e-26], [2.5832019856508737e-10, 8.738389851714601e-07, 0.9999991655349731, 6.703681121496274e-13], [4.045205686448904e-17, 9.893366681446025e-11, 1.0, 1.2885357524430772e-21], [1.0991985486766863e-23, 4.361419211895701e-11, 1.0, 3.5951300568102505e-28], [1.0, 0.0, 0.0, 0.0], [1.016933845783614e-23, 2.535355172333942e-12, 1.0, 5.556424649060054e-29], [0.0014225250342860818, 0.0006462453166022897, 0.00023087492445483804, 0.9977003931999207], [0.0016600044909864664, 0.00044753574184142053, 0.00048337478074245155, 0.9974090456962585], [4.065357312015563e-27, 3.470997445763563e-15, 1.0, 1.2277174322319946e-33], [1.0, 9.800476429378287e-18, 2.427945740289849e-25, 4.614176062683859e-29], [1.0, 6.838744315366425e-29, 4.5416940984869584e-26, 1.401298464324817e-45], [1.8053683548124866e-12, 1.0005110517852245e-08, 1.0, 5.003842371344451e-16], [1.0, 0.0, 0.0, 0.0], [1.0, 2.2425779028808056e-35, 5.871795374292151e-38, 0.0], [1.0, 0.0, 0.0, 0.0], [1.0, 0.0, 0.0, 0.0], [9.648934666411888e-19, 8.284969238436801e-11, 1.0, 2.1853004286048933e-23], [1.0, 4.486654102164282e-28, 1.5687310640976066e-24, 1.233142648605839e-43], [0.0, 1.0, 0.0, 0.0], [4.963377065941681e-20, 1.0, 8.450073241058258e-21, 4.349572096234666e-30], [0.0, 1.0, 0.0, 0.0], [1.0, 2.8374187332613996e-33, 0.0, 0.0], [1.0, 0.0, 0.0, 0.0], [1.0, 2.9850082255463243e-20, 6.207852978433636e-19, 1.5116247975303151e-30], [1.0, 0.0, 0.0, 0.0], [1.1084400064476085e-09, 4.7527311153316987e-07, 0.9999995231628418, 1.5587481392437263e-12], [1.0, 0.0, 0.0, 0.0], [3.934616955164616e-12, 5.620095322456109e-08, 1.0, 2.04966070191956e-15], [1.0, 3.977982258451397e-39, 2.420042447888959e-42, 0.0], [0.0012778551317751408, 0.001057863119058311, 8.213307592086494e-05, 0.9975820779800415], [1.0, 1.401298464324817e-44, 0.0, 0.0], [1.0, 0.0, 0.0, 0.0], [0.0, 1.0, 0.0, 0.0], [0.0015842021675780416, 0.0005268397508189082, 0.0003451080119702965, 0.9975438714027405], [1.0, 1.7053150661631817e-20, 1.5105492258416856e-27, 1.0006357090466336e-33], [0.0, 1.0, 0.0, 0.0], [1.0466000510689355e-08, 3.094880014486989e-07, 0.9999996423721313, 1.3535519059748591e-11], [0.0015171593986451626, 0.0006399301928468049, 0.00022971340513322502, 0.9976131916046143], [0.0, 1.0, 0.0, 0.0], [0.0, 1.0, 0.0, 0.0], [1.0, 1.7866555420141418e-42, 0.0, 0.0], [9.180152346764968e-17, 1.2919643133102454e-09, 1.0, 8.091772365471384e-21], [0.0, 7.270356574075452e-25, 1.0, 0.0], [0.0, 1.0, 0.0, 0.0], [0.0, 1.0, 0.0, 0.0], [5.028061193976044e-18, 8.535076118088014e-11, 1.0, 1.4896720592093855e-22], [3.5332628749856765e-12, 1.1006570588278919e-07, 0.9999998807907104, 2.3495440348072355e-15], [1.0, 2.388276244845364e-36, 3.745824937971312e-40, 0.0], [0.0018665926763787866, 0.0003160242340527475, 0.0009835760574787855, 0.996833860874176], [1.0, 0.0, 0.0, 0.0], [4.751817105510098e-40, 1.0, 6.524445649896348e-42, 0.0], [0.0, 1.0, 0.0, 0.0], [1.0, 1.3743935338097806e-41, 4.3521813794094645e-36, 0.0], [1.0, 1.3581595375095595e-28, 4.416113351971437e-30, 0.0], [1.0, 0.0, 0.0, 0.0], [3.206300502878179e-10, 8.94616221103206e-08, 0.9999998807907104, 2.366114032134603e-13], [2.2281306995639753e-37, 1.0, 6.96639608304373e-36, 0.0], [0.0, 1.0, 0.0, 0.0], [1.0, 0.0, 0.0, 0.0], [1.6114980492525375e-17, 8.32696758767959e-11, 1.0, 5.233594050920293e-22], [0.0, 1.0, 0.0, 0.0], [1.0, 0.0, 0.0, 0.0], [0.0, 1.0, 0.0, 0.0], [0.0016171179013326764, 0.0005104916053824127, 0.0003665844560600817, 0.9975058436393738], [1.0, 0.0, 0.0, 0.0], [1.0, 0.0, 0.0, 0.0], [2.494226367802453e-15, 6.014750364435884e-10, 1.0, 1.7908615358137903e-19], [0.0, 1.0, 0.0, 0.0], [0.00189173873513937, 0.00029692676616832614, 0.0011203819885849953, 0.9966909885406494], [0.0, 1.0, 0.0, 0.0], [1.185439280926028e-21, 4.4536583080311e-13, 1.0, 3.8371138135622764e-27], [1.877379176419178e-27, 1.0, 4.8834095374036524e-27, 3.196656069802416e-40], [9.985196003370334e-11, 6.730017076961303e-08, 0.9999998807907104, 6.158806375045761e-14], [1.0, 4.491166965861874e-24, 1.7367837790662623e-25, 8.573672294260281e-39], [4.5526984791830916e-38, 1.0, 4.2165070791533746e-42, 0.0], [5.096993634394774e-22, 1.0, 2.848624060407387e-24, 6.996710894229705e-34], [1.0, 2.114279122973284e-40, 0.0, 0.0], [0.0, 1.0, 0.0, 0.0], [1.0, 2.4513474555819755e-40, 0.0, 0.0], [1.0, 4.030134383398174e-42, 0.0, 0.0], [0.0, 1.0, 0.0, 0.0], [0.0, 1.0, 0.0, 0.0], [1.8583356923555064e-17, 7.402998214445233e-10, 1.0, 1.0849648063530906e-21], [1.0, 4.472440461006572e-19, 7.578217249856094e-19, 7.418970433418183e-29], [1.7678607036941685e-05, 7.667718455195427e-05, 0.9999055862426758, 5.899000043996239e-08], [3.4621881158073255e-41, 5.101297800857534e-20, 1.0, 0.0], [8.49571335590632e-13, 8.902803827481875e-09, 1.0, 2.0293691806351358e-16], [1.1414493070405108e-20, 5.86608539521194e-12, 1.0, 9.665735794266965e-26], [1.9860944486249643e-12, 6.92155524006921e-08, 0.9999998807907104, 1.0298205396894102e-15], [0.0, 1.0, 0.0, 0.0], [1.0, 0.0, 0.0, 0.0], [5.980406291477396e-26, 7.20402876892498e-14, 1.0, 6.755219263342194e-32], [0.0, 1.0, 0.0, 0.0], [0.0, 1.0, 0.0, 0.0], [1.0, 1.3086614038495412e-30, 1.4612418930174188e-32, 0.0], [2.8289772330438247e-26, 1.0, 6.131568782912733e-21, 1.7855848098575512e-38], [2.858648867222627e-43, 1.0, 8.407790785948902e-45, 0.0], [0.0, 1.0, 0.0, 0.0], [1.0, 6.333869058748173e-43, 0.0, 0.0], [1.0, 8.688219195148971e-38, 5.7032847498020055e-43, 0.0], [1.0, 3.465551232121705e-41, 1.3347774249248537e-39, 0.0], [1.0, 0.0, 0.0, 0.0], [1.6032476832607437e-21, 1.9664006534192424e-11, 1.0, 1.7059149431027446e-26], [7.940839825970603e-12, 1.191440901493479e-07, 0.9999998807907104, 5.347391417333388e-15], [1.0, 4.321899642662636e-31, 1.459766661839845e-38, 0.0], [1.0, 1.2546730934483419e-23, 1.865355154263675e-37, 1.2173079759589686e-41], [1.0, 4.130915768952415e-40, 0.0, 0.0], [0.001295361202210188, 0.0008709126268513501, 0.00012497646093834192, 0.9977086782455444], [8.882176743832745e-17, 1.7893980741590099e-10, 1.0, 4.055982794528954e-21], [4.110358070278282e-36, 1.0, 2.844215493040081e-41, 0.0], [4.509193365920261e-11, 0.9999173879623413, 8.255082502728328e-05, 1.0033917056603836e-13], [6.286636702280348e-27, 1.0, 8.461050898464403e-26, 3.7519668291404474e-39], [1.0, 0.0, 0.0, 0.0], [0.0, 1.0, 0.0, 0.0], [1.0, 1.975830834697992e-43, 3.520242678041654e-37, 0.0], [1.0, 2.559064747475803e-34, 1.2124716745690443e-38, 0.0], [1.0, 8.557238702517161e-31, 5.9138690999747265e-33, 0.0], [3.515115551896671e-30, 3.4202070971385556e-13, 1.0, 1.0131175706849766e-35], [0.0018739935476332903, 0.00031980135827325284, 0.000956886273343116, 0.9968493580818176], [1.6665648895630714e-12, 6.461746693275927e-08, 0.9999998807907104, 8.360189778411527e-16], [1.0, 4.197677831688242e-39, 9.554618284865177e-34, 0.0], [1.0, 0.0, 0.0, 0.0], [1.0, 0.0, 0.0, 0.0], [0.0018620482878759503, 0.0003104236675426364, 0.001023664721287787, 0.996803879737854], [0.0, 8.5046064974915e-26, 1.0, 0.0], [3.385460970029222e-30, 6.134064373249874e-16, 1.0, 3.73158740926214e-37], [0.0, 1.0, 0.0, 0.0], [6.03100938904107e-20, 8.544767671203601e-11, 1.0, 1.3724849534144176e-24], [3.565026573238263e-15, 5.80874370825768e-09, 1.0, 5.609504644513043e-19], [1.0, 1.161998725572068e-40, 2.5153601707307975e-39, 0.0], [1.0, 0.0, 0.0, 0.0], [1.0, 0.0, 0.0, 0.0], [0.001667793607339263, 0.0004390683025121689, 0.0005029817693866789, 0.9973902106285095], [1.9877315939054174e-12, 1.0828306074017746e-07, 0.9999998807907104, 1.318638551791511e-15], [5.4491201590019245e-14, 2.2875239480413256e-09, 1.0, 7.307446707372068e-18], [1.3344147972993878e-25, 1.0, 5.160581124500871e-21, 1.7156759408434914e-36], [1.0, 1.1799596531021233e-25, 3.593418960962797e-34, 9.80908925027372e-45], [1.0, 2.7322659555145775e-29, 1.7688602011512657e-30, 0.0], [9.52776879614703e-09, 7.6984943007119e-06, 0.9999922513961792, 4.21969993669169e-11], [0.0015099807642400265, 0.0005759383784607053, 0.0002897400700021535, 0.9976243376731873], [1.0, 0.0, 0.0, 0.0], [9.497146221643213e-16, 3.4589928699091388e-09, 1.0, 1.164415944436303e-19], [1.0, 0.0, 0.0, 0.0], [1.0, 7.791257002696016e-21, 4.887785601872049e-21, 3.9975133366697474e-32], [3.2905936238652747e-20, 9.897589692275943e-12, 1.0, 3.0405553977618564e-25], [0.0, 1.0, 0.0, 0.0], [9.490812744538356e-15, 8.525745442966581e-09, 1.0, 1.796260750467077e-18], [1.0, 7.975761418942804e-25, 9.430795198229044e-30, 9.949359226552634e-41], [0.0, 1.0, 0.0, 0.0], [7.181450529733513e-13, 4.6458939806370836e-08, 1.0, 3.073618926581023e-16], [0.0, 1.0, 0.0, 0.0], [1.2118835384515359e-17, 3.06116049175742e-10, 1.0, 4.982436894569262e-22], [8.911767641321727e-18, 4.670515363347505e-11, 1.0, 2.19909959376669e-22], [1.0, 0.0, 0.0, 0.0], [0.0, 1.0, 0.0, 0.0], [0.0, 1.0, 0.0, 0.0], [6.356630777304417e-09, 5.19215791427996e-06, 0.9999947547912598, 2.4264087267189538e-11], [9.445128869561142e-14, 2.0980023052175056e-08, 1.0, 2.7572965569240482e-17], [3.56672339198985e-17, 1.0, 7.683557024136534e-13, 9.140040637312816e-24], [1.0, 0.0, 0.0, 0.0], [1.874357365551447e-14, 1.1131572996703198e-08, 1.0, 4.0332929621391604e-18], [8.250637990455462e-30, 1.5835226950568757e-15, 1.0, 1.3279683587412714e-36], [0.0013605088461190462, 0.000861853186506778, 0.00012531359971035272, 0.9976523518562317], [3.408018896707176e-23, 2.1032064978498966e-12, 1.0, 1.6645723435078952e-28], [0.5991277694702148, 0.40087220072746277, 1.1256603288378741e-10, 2.8756229168702685e-12], [1.0, 0.0, 0.0, 0.0], [0.0, 1.0, 0.0, 0.0], [1.0, 1.1594667204476958e-31, 5.534508769999142e-29, 0.0], [3.1160261919958898e-30, 4.8968819293537096e-18, 1.0, 2.9929030691941946e-39], [1.0, 0.0, 0.0, 0.0], [7.384649128302867e-18, 1.0, 2.4155566062199623e-18, 5.308502027323967e-26], [1.7678607036941685e-05, 7.667718455195427e-05, 0.9999055862426758, 5.899000043996239e-08], [1.2410194866036137e-18, 2.901250420461743e-11, 1.0, 2.3097314034899296e-23], [0.0, 1.0, 0.0, 0.0], [0.0, 1.0, 0.0, 0.0], [0.001689357333816588, 0.0004081143706571311, 0.0005868594162166119, 0.9973157048225403], [0.001687087002210319, 0.00044259909191168845, 0.0004919299390166998, 0.9973783493041992], [9.76499220089711e-17, 1.4183607621731653e-09, 1.0, 7.79580568827149e-21], [1.1480295530471771e-21, 2.855571898732756e-12, 1.0, 6.017475281414599e-27], [1.6116370233502647e-20, 5.418902739723341e-12, 1.0, 1.4474606604293383e-25], [1.0, 1.4439318883850584e-24, 6.76776013710355e-23, 1.9028635421024417e-38], [5.909884127214271e-12, 1.5364836514208946e-08, 1.0, 1.9685619559011705e-15], [1.0, 0.0, 0.0, 0.0], [0.0015167758101597428, 0.000563314650207758, 0.0003035510890185833, 0.9976164102554321], [0.0, 1.0, 0.0, 0.0], [1.0, 0.0, 0.0, 0.0], [0.0, 1.0, 0.0, 0.0], [1.0, 0.0, 0.0, 0.0], [0.0, 1.0, 0.0, 0.0], [1.349697779255545e-23, 4.49498207752419e-12, 1.0, 9.1988859990717e-29], [1.0, 0.0, 0.0, 0.0], [7.704234903720053e-24, 4.178983548097648e-13, 1.0, 1.606240770409922e-29], [0.0, 1.0, 0.0, 0.0], [1.0, 0.0, 0.0, 0.0], [2.0248321646360428e-29, 6.17712964587065e-16, 1.0, 2.5575591977867187e-36], [1.0, 0.0, 0.0, 0.0], [5.515587952742996e-27, 1.0, 3.78510820500233e-21, 3.103902330786722e-37], [7.594232442897919e-07, 0.8212648034095764, 0.1787344217300415, 5.859355223236662e-10], [1.0106584914249878e-40, 1.0, 1.0022086616851092e-41, 0.0], [4.2025035693418495e-15, 5.7847953094380955e-09, 1.0, 6.64660198304095e-19], [1.0, 4.5939119985834695e-20, 3.746868973414168e-27, 5.727808915390698e-33], [2.4899268020924106e-17, 3.588004338084261e-10, 1.0, 1.1192430214954782e-21], [1.0, 0.0, 0.0, 0.0], [0.0, 1.0, 0.0, 0.0], [1.0, 0.0, 0.0, 0.0], [0.0017118453979492188, 0.00038795461296103895, 0.0006518696318380535, 0.9972483515739441], [1.0, 0.0, 0.0, 0.0], [1.0, 0.0, 0.0, 0.0], [1.353662909709548e-23, 3.249033854457739e-12, 1.0, 6.553864970964419e-29], [1.1841760905184628e-10, 3.572439709387254e-06, 0.9999964237213135, 3.3326095247136756e-13], [0.0, 1.0, 0.0, 0.0], [0.002042558044195175, 0.000246030482230708, 0.001634071464650333, 0.9960773587226868], [0.0, 1.0, 0.0, 0.0], [1.0, 0.0, 0.0, 0.0], [9.942244639817066e-19, 1.5273687870021035e-10, 1.0, 2.8399778293418025e-23], [0.0, 1.0, 0.0, 0.0], [0.001262208097614348, 0.0009489864460192621, 0.00010469058179296553, 0.997684121131897], [1.1447392323553011e-24, 2.6990375212587736e-11, 1.0, 7.024193313417687e-29], [1.0, 2.3525695636151572e-35, 6.103485782123923e-39, 0.0], [9.375364353442712e-25, 7.858954643742005e-14, 1.0, 1.1587554053061262e-30], [2.533438364734008e-29, 2.7733155771869633e-09, 1.0, 1.4430599387378498e-34], [1.0, 0.0, 0.0, 0.0], [4.945103354581093e-12, 1.566044183221038e-08, 1.0, 1.5186472769563664e-15], [7.560730436639764e-16, 7.12844716588279e-09, 1.0, 1.4592684804369217e-19], [4.61344056962311e-20, 7.138014571778095e-12, 1.0, 4.041934444773277e-25], [0.0, 1.0, 0.0, 0.0], [0.0, 1.0, 0.0, 0.0], [1.0, 4.133178829471277e-33, 6.298678754881031e-37, 0.0], [0.0, 1.0, 0.0, 0.0], [5.355864232114982e-06, 3.3675070881145075e-05, 0.9999610185623169, 2.3592187758936234e-08], [0.0, 1.0, 0.0, 0.0], [1.769265135445237e-30, 1.0, 6.062504556632848e-32, 0.0], [0.0, 1.0, 0.0, 0.0], [0.0, 1.0, 0.0, 0.0], [1.0, 5.654308247435082e-38, 1.8525165698374082e-42, 0.0], [6.476044344176523e-24, 1.0, 8.0242966620049875e-22, 3.6804713774949547e-35], [1.6444705569062384e-13, 3.0010436358196557e-09, 1.0, 2.6743908911058184e-17], [1.0, 3.5699759749928147e-25, 1.5859795239680755e-27, 2.014506672313357e-40], [0.0, 1.0, 0.0, 0.0], [5.499952172364245e-36, 1.0, 1.688721594939409e-37, 0.0], [4.0813833974799596e-13, 5.846390926933509e-09, 1.0, 7.807219141873134e-17], [3.92703155376863e-26, 1.0, 1.954583646732667e-38, 1.401298464324817e-44], [0.0015949589433148503, 0.0005054538487456739, 0.00037674393388442695, 0.99752277135849], [4.996802884654761e-12, 3.146364804251789e-07, 0.9999996423721313, 3.2378922846132852e-15], [1.0, 1.2611686178923354e-43, 2.9821711968791937e-37, 0.0], [0.0, 1.0, 0.0, 0.0], [0.0, 1.0, 0.0, 0.0], [3.0002577841841543e-14, 4.870431613568371e-09, 1.0, 5.091019151168374e-18], [0.0015383230056613684, 0.0004757916321977973, 0.00043636930058710277, 0.9975494742393494], [0.0, 1.0, 0.0, 0.0], [1.0, 6.146967729061211e-17, 3.114599243110962e-23, 4.051980572993827e-27], [8.443845067596101e-10, 2.8807589842472225e-06, 0.9999971389770508, 2.3487748204709114e-12], [0.0, 1.0, 0.0, 0.0], [1.0, 0.0, 0.0, 0.0], [4.969057698644974e-08, 0.00010582823597360402, 0.9998941421508789, 4.254922192359345e-09], [1.0, 0.0, 0.0, 0.0], [1.0, 1.1044488124313847e-22, 4.838817079324255e-25, 4.998106341636696e-36], [1.263570136444654e-28, 6.116239411907854e-15, 1.0, 4.307768370284314e-35], [0.0, 1.0, 0.0, 0.0], [7.367128812844563e-38, 1.0, 5.987846541056323e-34, 0.0], [1.0, 3.502006548433566e-26, 8.88782829791085e-34, 1.7095841264762768e-43], [0.0, 1.0, 0.0, 0.0], [1.0, 3.04348013466707e-41, 0.0, 0.0], [0.0018475076649338007, 0.00033139294828288257, 0.0008906723232939839, 0.9969304203987122], [1.0, 0.0, 0.0, 0.0], [4.865499385153567e-21, 8.918387946546535e-13, 1.0, 2.1425227992721443e-26], [0.0, 1.0, 0.0, 0.0], [0.0, 1.0, 0.0, 0.0], [2.289347056825308e-29, 1.0, 9.030347161859119e-25, 1.2987234167362405e-41], [1.2468473048912948e-17, 1.0, 8.069303146680806e-13, 3.3457884997935493e-23], [2.1762321205437207e-16, 2.0556717439390582e-10, 1.0, 9.605516117617693e-21], [0.0, 1.0, 0.0, 0.0], [0.0, 1.0, 0.0, 0.0], [1.7959855824756232e-07, 2.1790706341562327e-06, 0.999997615814209, 5.446956774513012e-10], [7.488118603812525e-41, 1.0, 1.0229478789571165e-42, 0.0], [1.1125329926012845e-31, 1.0, 2.1706688086239168e-31, 0.0], [1.0, 6.353548839522447e-24, 5.545171022468201e-25, 7.185277826974046e-38], [0.0, 1.0, 0.0, 0.0], [0.001927731791511178, 0.000282871798845008, 0.0012354732025414705, 0.996553897857666], [1.0, 0.0, 0.0, 0.0], [4.216436393464954e-25, 1.0, 6.347343955464818e-25, 4.952248748498177e-38], [1.0, 3.816812770907765e-24, 7.958186738125007e-27, 2.4921504642661855e-39], [0.0, 1.0, 0.0, 0.0], [7.579241921573665e-12, 5.8170844141614e-08, 1.0, 3.886472612105955e-15], [1.5273550702800846e-39, 1.0, 2.2926644174818332e-41, 0.0], [1.0, 8.387939516287552e-26, 1.401298464324817e-45, 0.0], [1.0, 0.0, 0.0, 0.0], [1.6285493807428618e-23, 1.0, 5.399411713896318e-24, 1.0199501315991311e-35], [0.0, 1.0, 0.0, 0.0], [3.0127211489427985e-12, 8.149319086214746e-08, 0.9999998807907104, 1.6898551878486811e-15], [0.0, 1.0, 0.0, 0.0], [1.3194977509112147e-17, 6.473324098976718e-10, 1.0, 7.221911777860356e-22], [0.0, 1.0, 0.0, 0.0], [8.799544333621335e-26, 1.0, 4.660313922256164e-20, 2.009712500681503e-35], [1.3954964028957406e-13, 1.0333233149140142e-05, 0.9999896287918091, 3.120964891958986e-16], [1.0, 8.268324212139311e-20, 5.82173416188878e-27, 1.5895307914255538e-32], [0.0, 1.0, 0.0, 0.0], [1.0, 0.0, 0.0, 0.0], [5.945003204071513e-22, 2.618891215000474e-12, 1.0, 2.7991974257229404e-27], [4.113998213505018e-28, 1.0, 1.1334522631012863e-28, 8.744102417386859e-43], [0.0018848039908334613, 0.00030544292530976236, 0.0010550763690844178, 0.9967547059059143], [0.0, 1.0, 0.0, 0.0], [0.0015407600440084934, 0.0005838138167746365, 0.0002789430436678231, 0.9975964426994324], [0.0, 1.0, 0.0, 0.0], [1.0, 0.0, 0.0, 0.0], [2.672878794606314e-19, 1.3151198879901571e-11, 1.0, 3.815604630431419e-24], [0.0, 1.0, 0.0, 0.0], [1.6672512259674477e-09, 5.6747453527350444e-06, 0.9999942779541016, 6.166865195583737e-12], [2.933644833150756e-20, 4.9998074257151526e-12, 1.0, 2.7203323509483924e-25], [3.384910855223998e-27, 5.564294278158702e-14, 1.0, 3.1006425914662265e-33], [6.037675680208746e-23, 1.0, 1.0819099835183893e-22, 2.2483094996889886e-34], [0.0016755781834945083, 0.00044180668191984296, 0.0004952517920173705, 0.9973873496055603], [0.0, 1.0, 0.0, 0.0], [1.0, 0.0, 0.0, 0.0], [0.0, 1.0, 0.0, 0.0], [2.595765249408957e-28, 3.7316026326892834e-14, 1.0, 1.6244576581408114e-34], [3.488336464303743e-13, 3.5008497434319e-08, 1.0, 1.3028976091370922e-16], [0.0, 1.0, 0.0, 0.0], [1.0, 2.3485762262083934e-42, 0.0, 0.0], [6.761707382406303e-27, 5.543718831430358e-15, 1.0, 2.934554423244653e-33], [5.17083207848823e-12, 1.0, 2.2151437628625814e-10, 5.837486374680621e-17], [1.7678607036941685e-05, 7.667718455195427e-05, 0.9999055862426758, 5.899000043996239e-08], [0.0, 1.0, 0.0, 0.0], [0.0, 1.0, 0.0, 0.0], [1.5603433259001043e-12, 8.245770288795029e-09, 1.0, 3.980609365704515e-16], [0.0, 1.0, 0.0, 0.0], [1.471363387541058e-43, 1.0, 4.203895392974451e-45, 0.0], [1.0, 0.0, 0.0, 0.0], [1.951778148823191e-12, 9.191473360203872e-09, 1.0, 5.224872442556908e-16], [7.454907830208027e-43, 2.90711356897011e-13, 1.0, 0.0], [0.0, 1.0, 0.0, 0.0], [1.0, 2.5291348705116927e-34, 0.0, 0.0], [1.0, 0.0, 0.0, 0.0], [1.0, 8.653347577025603e-25, 1.3051092481841233e-34, 2.8166099132928823e-43], [0.0, 1.0, 0.0, 0.0], [3.465892850496033e-10, 1.728591541905189e-06, 0.9999982118606567, 8.056616354959467e-13], [8.671015017114314e-09, 8.183265890693292e-05, 0.9999181032180786, 1.1501088276189009e-11], [0.0016600368544459343, 0.00040630277362652123, 0.0005968696787022054, 0.9973368048667908], [1.9758052806893817e-24, 2.48544674424922e-14, 1.0, 1.758807937700322e-30], [9.390793558879351e-17, 1.0, 4.366483845504032e-13, 2.152636569973386e-22], [4.635517467464646e-24, 1.0, 1.351755090631038e-21, 2.6448544833329735e-34], [3.7167710857828606e-14, 1.455701692520961e-08, 1.0, 9.10012907450924e-18], [1.0, 6.4476575978652595e-21, 1.5826011539561287e-27, 2.427202979906092e-34], [1.0, 2.4256476417462583e-42, 0.0, 0.0], [1.0, 7.490928208578743e-34, 2.752820004599888e-39, 0.0], [0.0, 1.0, 0.0, 0.0], [3.8206885195589436e-18, 0.00011347693362040445, 0.9998865127563477, 1.813050978862952e-20], [1.3896751520770686e-32, 1.0, 2.2961493040911435e-31, 0.0], [6.796266257002436e-24, 9.546645429476391e-14, 1.0, 1.0782474523143537e-29], [0.0, 1.0, 0.0, 0.0], [6.292786292050323e-09, 1.374706334900111e-05, 0.9999862909317017, 7.27331805894238e-11], [0.0, 1.0, 0.0, 0.0], [9.80525357836154e-20, 7.4109026207414e-12, 1.0, 9.394840343116487e-25], [1.0, 0.0, 0.0, 0.0], [2.370108851944669e-34, 5.674288189317278e-18, 1.0, 4.222112273010674e-42], [3.1378628695350654e-25, 6.443196670646856e-13, 1.0, 8.335256468516919e-31], [5.6641452433761166e-33, 1.2384427362774498e-17, 1.0, 1.5196241066524046e-40], [1.0, 0.0, 0.0, 0.0], [0.0, 1.0, 0.0, 0.0], [0.0, 1.0, 0.0, 0.0], [0.0018530116649344563, 0.00032944438862614334, 0.0009010873036459088, 0.9969164133071899], [0.0, 1.0, 0.0, 0.0], [0.0, 1.0, 0.0, 0.0], [0.0, 1.0, 0.0, 0.0], [6.273848136040107e-18, 3.9619574287996784e-10, 1.0, 2.7679861938047157e-22], [1.0, 1.4893000078844156e-41, 0.0, 0.0], [1.6109149200079122e-16, 1.5221346405525082e-09, 1.0, 1.3479761919351848e-20], [1.0, 3.942186087475742e-21, 1.3859844304232727e-33, 6.923500476126387e-37], [0.0, 1.0, 0.0, 0.0], [0.0018074847757816315, 0.0003250087611377239, 0.0009376499219797552, 0.9969298243522644], [0.0, 1.0, 0.0, 0.0], [1.0, 2.164346830734008e-28, 2.2375579636687574e-31, 0.0], [0.001796240801922977, 0.00036598657607100904, 0.0007257043034769595, 0.9971120357513428], [0.0015816137893125415, 0.0004831538535654545, 0.000417191389715299, 0.9975180625915527], [1.0, 0.0, 0.0, 0.0], [1.518510897414028e-19, 2.479457472670532e-10, 1.0, 6.2565019876708e-24], [1.144287166106664e-13, 2.2618451112066396e-08, 1.0, 3.4635868736220435e-17], [0.0, 1.0, 0.0, 0.0], [1.0, 7.179867229377987e-19, 2.8453203614234192e-18, 2.2999486692233967e-28], [0.0, 1.0, 0.0, 0.0], [1.0, 0.0, 0.0, 0.0], [1.0, 9.178296331545296e-32, 3.8866624401282775e-39, 0.0], [1.0, 0.0, 0.0, 0.0], [6.025970468863723e-36, 1.0, 4.8866047778089615e-31, 0.0], [1.0, 0.0, 0.0, 0.0], [1.2335081618782516e-14, 7.480100983059401e-09, 1.0, 2.245910547981768e-18], [0.0, 1.0, 0.0, 0.0], [1.7678607036941685e-05, 7.667718455195427e-05, 0.9999055862426758, 5.899000043996239e-08], [5.978599126182926e-12, 3.841676914362324e-07, 0.9999996423721313, 7.027028105585512e-15], [1.0, 3.266196060944994e-19, 1.459559075006067e-25, 3.4317875785533207e-31], [1.0, 0.0, 0.0, 0.0], [1.0, 0.0, 0.0, 0.0], [1.0, 2.113688947110185e-25, 9.172337420073192e-34, 3.923635700109488e-44], [1.0, 5.628869275042474e-31, 6.176034782620067e-27, 0.0], [0.0, 1.0, 0.0, 0.0], [1.0, 0.0, 0.0, 0.0], [0.0, 1.0, 0.0, 0.0], [1.0, 1.4632543953089616e-26, 4.335615303401191e-34, 4.0637655465419695e-44], [0.0, 1.0, 0.0, 0.0], [3.3083720225174362e-12, 2.323877055232515e-07, 0.9999997615814209, 2.8613135064835217e-15], [2.858648867222627e-43, 1.0, 1.0369608636003646e-43, 0.0], [4.483899688177695e-13, 3.862808028998188e-08, 1.0, 1.7559444306323855e-16], [0.0, 1.0, 0.0, 0.0], [1.0, 4.299619792934891e-30, 1.979969770683238e-32, 0.0], [5.2032773163908363e-14, 1.4760219713139122e-08, 1.0, 1.4420323991059412e-17], [1.288791371953513e-36, 7.85721653213424e-14, 1.0, 1.555441295400547e-43], [0.0, 1.0, 0.0, 0.0], [1.0, 3.395346179059032e-42, 0.0, 0.0], [1.0, 0.0, 0.0, 0.0], [1.0, 1.3037878889517642e-23, 1.5336627298168542e-21, 2.9750030059251742e-36], [4.0387411355449526e-19, 1.3115408759034608e-10, 1.0, 1.342380778815258e-23], [2.188902115118907e-10, 3.977881533501204e-06, 0.9999960660934448, 6.563988176784552e-13], [1.0, 2.53705017192555e-33, 4.013649508263857e-39, 0.0], [3.936049096731921e-24, 2.715496555914798e-13, 1.0, 6.738342879026534e-30], [1.7678607036941685e-05, 7.667718455195427e-05, 0.9999055862426758, 5.899000043996239e-08], [2.1960170193427786e-35, 1.6667484202151594e-17, 1.0, 5.05868745621259e-43], [1.332634839572901e-42, 1.0, 1.659551358958108e-35, 0.0], [1.0, 0.0, 0.0, 0.0], [1.3098128484601013e-11, 2.1957790252713494e-08, 1.0, 4.754509011836846e-15], [0.0013801450841128826, 0.0007539225625805557, 0.00016691286873538047, 0.997698962688446], [1.0633231795065257e-10, 1.015516772895353e-06, 0.999998927116394, 1.9646383044719107e-13], [0.0, 1.0, 0.0, 0.0], [0.0, 1.0, 0.0, 0.0], [1.0, 1.391182894028679e-30, 2.505255253787715e-33, 0.0], [7.715038324992637e-14, 3.3246541075726554e-09, 1.0, 1.1811849634042842e-17], [1.9921031491065833e-09, 5.854293704032898e-06, 0.999994158744812, 7.505241220173708e-12], [0.0, 1.0, 0.0, 0.0], [1.3549404226138991e-21, 3.716285525839913e-12, 1.0, 7.581713656315968e-27], [1.728128933639593e-22, 1.0, 2.638159631209021e-22, 1.020021263930624e-33], [1.0, 4.3435886231019746e-29, 2.887487144546309e-30, 0.0], [0.0014187116175889969, 0.0007303532329387963, 0.00017689717060420662, 0.9976740479469299], [0.0, 1.0, 0.0, 0.0], [0.0017322651110589504, 0.0003879380819853395, 0.0006487542996183038, 0.9972310662269592], [0.0, 1.0, 0.0, 0.0], [1.0, 1.4479576427996275e-25, 4.846057378527453e-33, 2.1734139181677913e-42], [4.668523997443543e-17, 3.0094451930473554e-10, 1.0, 2.0146393773964214e-21], [7.240766851013555e-18, 5.116690959816594e-10, 1.0, 3.5389446265337695e-22], [0.0018791592447087169, 0.0003058814909309149, 0.0010530833387747407, 0.9967617988586426], [1.2053587401715044e-26, 1.2611816430606326e-13, 1.0, 1.5568730604342151e-32], [0.0019810819067060947, 0.0002854775812011212, 0.0011975279776379466, 0.9965358972549438], [0.0, 1.0, 0.0, 0.0], [1.9827713689662962e-12, 9.159359493082775e-09, 1.0, 5.301001646273757e-16], [2.0337397543812585e-08, 4.883587507720222e-07, 0.9999995231628418, 3.209932666892179e-11], [0.0, 1.0, 0.0, 0.0], [1.2357352020789963e-15, 1.000675187157185e-08, 1.0, 2.7633273756738075e-19], [1.7678607036941685e-05, 7.667718455195427e-05, 0.9999055862426758, 5.899000043996239e-08], [0.0, 1.0, 4.414090162623174e-43, 0.0], [4.931868602398026e-07, 0.04945024475455284, 0.950549304485321, 7.804323298721272e-10], [0.0015894374810159206, 0.0005126301548443735, 0.0003658452769741416, 0.9975320100784302], [1.0, 5.666816871073674e-21, 8.521356822814722e-20, 3.1737498177533294e-32], [0.0, 1.0, 0.0, 0.0], [8.322000866201051e-10, 1.0106671766152431e-07, 0.9999998807907104, 6.534620392538437e-13], [1.0, 1.5668052574127358e-24, 2.369697296289029e-23, 5.8041137795040334e-39], [2.1199118832241106e-20, 1.753936297414771e-12, 1.0, 1.2612075192187464e-25], [0.0017204949399456382, 0.0003668824792839587, 0.0007347673526965082, 0.9971778392791748], [1.0, 0.0, 0.0, 0.0], [3.5821249741195326e-28, 1.0, 0.0, 0.0], [0.0019431366818025708, 0.0003007521736435592, 0.0010776252020150423, 0.9966784715652466], [0.0, 1.0, 0.0, 0.0], [0.0, 1.0, 0.0, 0.0], [0.0, 1.0, 0.0, 0.0], [2.2420775429197073e-44, 1.0, 0.0, 0.0], [1.0411910977836669e-07, 0.9999998807907104, 0.0, 0.0], [1.3576435087259142e-08, 7.157377694966272e-05, 0.99992835521698, 9.241858389685831e-10], [8.977798430891137e-13, 5.0706745469142334e-08, 1.0, 4.0076842444679067e-16], [0.0, 1.0, 0.0, 0.0], [0.0014963410794734955, 0.0005718738539144397, 0.00029535824432969093, 0.9976364374160767], [0.0, 1.0, 0.0, 0.0], [0.0, 1.0, 0.0, 0.0], [1.0, 1.8521497560741777e-25, 1.5305469185678484e-22, 2.5263603636757473e-39], [0.0, 1.0, 0.0, 0.0], [1.401298464324817e-45, 1.0, 1.2262258393859317e-39, 0.0], [1.658101824245084e-13, 2.615696637064957e-08, 1.0, 5.3824854217062324e-17], [0.0, 1.0, 0.0, 0.0], [1.182597630933202e-10, 3.9522146266790514e-07, 0.9999996423721313, 1.48569728026203e-13], [1.0, 2.0064777926321615e-37, 5.605193857299268e-45, 0.0], [1.5319067307126852e-16, 2.5243283019449336e-09, 1.0, 1.9152977727166088e-20], [1.0, 0.0, 0.0, 0.0], [1.8998820628482888e-16, 1.624419487811224e-09, 1.0, 1.9842009483899956e-20], [1.0, 0.0, 0.0, 0.0], [0.0, 1.0, 0.0, 0.0], [0.0, 1.0, 0.0, 0.0], [1.5434432771026414e-14, 9.563399849810139e-09, 1.0, 3.1115552658136647e-18], [2.307197988216103e-09, 6.006667263136478e-06, 0.9999940395355225, 8.825253895727858e-12], [1.0, 0.0, 0.0, 0.0], [1.0, 1.6399683520176596e-33, 3.8313616747085615e-29, 0.0], [0.0, 1.0, 0.0, 0.0], [0.0017057395307347178, 0.00040794891538098454, 0.0005850488087162375, 0.9973012804985046], [0.0, 1.0, 0.0, 0.0], [1.2435155127832331e-08, 4.204563026632968e-07, 0.9999995231628418, 1.8327707407284066e-11], [0.0, 1.0, 0.0, 0.0], [1.0, 0.0, 0.0, 0.0], [1.0, 6.726232628759122e-44, 8.954297187035581e-43, 0.0], [0.0, 1.0, 0.0, 0.0], [0.0013985504629090428, 0.0006998530006967485, 0.0001953320752363652, 0.9977062940597534], [0.00170549051836133, 0.00041674086241982877, 0.000558489584363997, 0.9973192811012268], [1.3231154339158207e-34, 1.0, 3.576113680956933e-42, 0.0], [3.3869636968443873e-35, 1.0, 1.2037995036044282e-36, 0.0], [0.0, 1.0, 0.0, 0.0], [1.0, 0.0, 0.0, 0.0], [0.0, 1.0, 0.0, 0.0], [0.0013853010023012757, 0.001073395716957748, 9.88500178209506e-05, 0.9974424839019775], [1.401298464324817e-45, 1.0, 0.0, 0.0], [0.001982381334528327, 0.0002735735906753689, 0.0013134637847542763, 0.9964305758476257], [1.4259508499450528e-16, 1.0, 3.4139446708902575e-20, 5.0533070652289257e-26], [1.0, 0.0, 0.0, 0.0], [3.029172142603237e-27, 1.0, 8.387675278699182e-28, 1.816363069457828e-41], [1.0, 4.207278211393404e-25, 4.252664891496485e-34, 2.200038588989963e-43], [0.0, 1.0, 0.0, 0.0], [3.9854835583956616e-25, 1.4758528600611331e-12, 1.0, 1.6086865885918362e-30], [0.0, 1.0, 0.0, 0.0], [0.0015071112429723144, 0.0005586984916590154, 0.00030987017089501023, 0.9976243376731873], [1.0, 5.635320369231877e-29, 5.884684587448083e-32, 0.0], [1.0, 8.201409162418974e-36, 0.0, 0.0], [1.0, 9.328443877010307e-42, 0.0, 0.0], [0.0, 1.0, 0.0, 0.0], [1.0, 1.401298464324817e-45, 8.547920632381384e-44, 0.0], [1.6780793387692578e-16, 2.1680941131307918e-07, 0.9999997615814209, 4.357932814835091e-19], [0.001669271383434534, 0.00046595788444392383, 0.0004416199226398021, 0.9974231719970703], [5.5967860665133194e-42, 3.205795332616372e-20, 1.0, 0.0], [2.9795331684421943e-37, 9.476033238872991e-19, 1.0, 1.401298464324817e-45], [1.0, 1.401298464324817e-45, 0.0, 0.0], [8.601517640615546e-24, 4.181878096847641e-13, 1.0, 1.8122249964932132e-29], [1.0, 8.99761140644471e-25, 2.8040288162262925e-34, 4.680336870844889e-43], [2.2544399076024985e-28, 1.833180468183279e-15, 1.0, 4.615992976180125e-35], [1.0, 0.0, 0.0, 0.0], [0.0, 1.0, 0.0, 0.0], [1.0, 0.0, 0.0, 0.0], [2.0544827589095457e-30, 2.585474897869554e-15, 1.0, 4.2524152962497594e-37], [1.0, 0.0, 0.0, 0.0], [1.0, 0.0, 0.0, 0.0], [0.0, 1.0, 0.0, 0.0], [1.0, 0.0, 0.0, 0.0], [1.0, 1.5306674709977462e-32, 2.7803254755847955e-37, 0.0], [1.0, 0.0, 0.0, 0.0], [2.0069411709424955e-18, 3.784218077784729e-11, 1.0, 3.9626417556191025e-23], [0.0, 1.0, 0.0, 0.0], [0.0, 1.0, 0.0, 0.0], [1.1942260772130914e-14, 8.388028049921559e-09, 1.0, 2.2674836251523042e-18], [1.0, 2.3432743411040833e-26, 5.985326840262661e-29, 1.263971214820985e-42], [1.0642871148856778e-23, 4.578229288731972e-12, 1.0, 7.175969833803769e-29], [0.0, 1.0, 0.0, 0.0], [1.0, 0.0, 0.0, 0.0], [4.2296197794167156e-11, 3.172511497950836e-08, 1.0, 1.921194221776463e-14], [1.2611686178923354e-43, 1.0, 2.5223372357846707e-44, 0.0], [6.089852148535343e-18, 1.1071727978873014e-09, 1.0, 4.612784499882875e-22], [1.32167637945102e-10, 3.641770263129729e-06, 0.9999963045120239, 3.762041947494993e-13], [1.0, 0.0, 0.0, 0.0], [2.4791220187836416e-09, 6.082690106268274e-06, 0.9999939203262329, 9.553610506862764e-12], [1.2784669455506243e-17, 1.874708027704841e-10, 1.0, 4.3776383168996995e-22], [8.063370539377676e-34, 1.0, 7.827246670281726e-35, 0.0], [0.0040547726675868034, 0.00010229993495158851, 0.9958426356315613, 1.898368680031126e-07], [4.4409490191146817e-14, 2.030080992199146e-09, 1.0, 5.926990625681309e-18], [1.0, 2.2586566108451128e-29, 3.7552874442562544e-32, 0.0], [0.0, 1.0, 0.0, 0.0], [1.0, 0.0, 0.0, 0.0], [7.767397387752461e-42, 1.0, 3.9342855684383564e-41, 0.0], [2.0797027294738868e-12, 7.047618311162296e-08, 0.9999998807907104, 1.0877611931716302e-15], [1.0, 0.0, 0.0, 0.0], [4.634616041637729e-12, 3.3996639103861526e-07, 0.9999996423721313, 5.158469612294263e-15], [1.0, 0.0, 0.0, 0.0], [1.6352809948175229e-13, 2.6015312570848437e-08, 1.0, 5.294531638045714e-17], [1.0, 1.0026008851252737e-38, 7.006492321624085e-45, 0.0], [1.0, 0.0, 0.0, 0.0], [3.092783720130875e-20, 3.567304004276073e-12, 1.0, 2.453287896870074e-25], [2.802596928649634e-44, 1.673945271368906e-21, 1.0, 0.0], [4.034468516315955e-30, 1.0, 4.219180951487783e-28, 9.388699710976274e-44], [4.68519899050314e-27, 5.4182740989749435e-15, 1.0, 1.722492096207215e-33], [1.0, 0.0, 0.0, 0.0], [1.0, 0.0, 0.0, 0.0], [5.467866607795436e-41, 1.0, 1.2191296639625909e-43, 0.0], [3.842526991038042e-11, 0.9998757839202881, 0.00012422737199813128, 1.2462901431622032e-14], [2.689813771565054e-14, 2.642690866139219e-08, 1.0, 8.419390036060763e-18], [1.491206488333349e-23, 1.0, 6.130573853395267e-25, 3.7419811426525056e-36], [1.0, 1.8413061821228096e-42, 1.8357009882655104e-43, 0.0], [0.0, 1.0, 0.0, 0.0], [1.0, 0.0, 0.0, 0.0], [1.0, 1.790364197825005e-25, 5.4250081827746e-33, 2.977759236690236e-42], [1.0, 0.0, 0.0, 0.0], [0.0, 1.0, 0.0, 0.0], [1.0, 0.0, 0.0, 0.0], [1.0, 4.01550196152437e-17, 6.221420948785169e-24, 1.118151399694486e-27], [0.0, 1.0, 0.0, 0.0], [5.730908456125228e-11, 4.521074572494399e-07, 0.9999995231628418, 6.979464749201636e-14], [0.0, 1.0, 0.0, 0.0], [1.0, 1.401298464324817e-45, 0.0, 0.0], [4.687618634703717e-17, 1.069148727883551e-10, 1.0, 1.5293220510848681e-21], [1.0, 0.0, 0.0, 0.0], [3.96068389818538e-06, 2.7796753784059547e-05, 0.9999682903289795, 1.8330169382352324e-08], [7.910213283002232e-12, 1.1896378993014878e-07, 0.9999998807907104, 5.322888448235216e-15], [1.0, 2.1529260831877798e-20, 3.3194727310841006e-23, 5.025724416679344e-32], [1.0, 0.0, 0.0, 0.0], [1.332219667915524e-08, 4.8932572099147364e-05, 0.9999510049819946, 3.6245218631991705e-11], [1.0, 0.0, 0.0, 0.0], [0.0, 1.0, 0.0, 0.0], [1.0, 1.2940217801287378e-38, 3.363116314379561e-44, 0.0], [0.0, 1.0, 0.0, 0.0], [9.189254912556066e-11, 1.0, 8.537221438346571e-38, 0.0], [4.366111916453974e-09, 1.412396045452624e-06, 0.9999985694885254, 9.664721280222555e-12], [5.37736782185716e-12, 8.669115914017311e-08, 0.9999998807907104, 3.3066074089428167e-15], [0.0, 1.0, 0.0, 0.0], [0.0, 1.0, 0.0, 0.0], [6.154044721734531e-12, 1.0781709391949335e-07, 0.9999998807907104, 3.949633317883866e-15], [1.0, 0.0, 0.0, 0.0], [0.0, 1.0, 0.0, 0.0], [1.0, 0.0, 0.0, 0.0], [0.0, 1.0, 0.0, 0.0], [8.978489063338202e-08, 1.898628397611901e-05, 0.9999809265136719, 1.743844957324825e-09], [1.0, 4.1243638578526176e-38, 5.605193857299268e-45, 0.0], [0.0, 1.0, 0.0, 0.0], [0.0013860317412763834, 0.000764406519010663, 0.00016166557907126844, 0.9976879358291626], [0.0, 1.0, 6.073956219585206e-40, 0.0], [0.0, 1.0, 0.0, 0.0], [3.863102655509591e-23, 3.0717716239560267e-13, 1.0, 8.443240163154077e-29], [5.666329703710768e-25, 6.074748858239318e-14, 1.0, 6.262186134655335e-31], [1.0, 2.4242463432819335e-43, 2.107552890344525e-42, 0.0], [0.0, 1.0, 0.0, 0.0], [1.0, 1.6629530878144962e-29, 8.795490130981089e-32, 0.0], [1.8989608483437008e-17, 3.26552590523832e-10, 1.0, 8.147583125934293e-22], [0.0, 1.0, 0.0, 0.0], [1.0, 1.7872689744298846e-37, 0.0, 0.0], [1.0, 5.496492838826883e-28, 1.2253134852145752e-24, 1.2891945871788317e-43], [1.9478048654114957e-43, 1.0, 5.605193857299268e-45, 0.0], [0.999996542930603, 2.678240434761392e-06, 5.992455953673925e-07, 2.1551515771989216e-07], [1.0, 0.0, 0.0, 0.0], [4.0219099642936957e-17, 5.502855116024108e-11, 1.0, 3.198206697705247e-22], [0.0, 1.0, 0.0, 0.0], [1.0, 7.875297369505472e-43, 0.0, 0.0], [1.0, 2.4823801939647986e-30, 1.4558578518774881e-37, 0.0], [0.0, 1.0, 0.0, 0.0], [0.0, 1.0, 0.0, 0.0], [0.0018828018801286817, 0.0003055169654544443, 0.001054981374181807, 0.9967567324638367], [2.802596928649634e-45, 1.0, 6.848762166479684e-40, 0.0], [0.0, 1.0, 0.0, 0.0], [2.2350333755136468e-23, 1.3853464816276917e-12, 1.0, 1.0455403018948144e-28], [1.0, 0.0, 0.0, 0.0], [0.0, 1.0, 0.0, 0.0], [1.0, 0.0, 3.6966253488888674e-42, 0.0], [3.879643175425903e-23, 1.0, 1.4239175011434698e-24, 6.46036484957878e-35], [1.0, 0.0, 0.0, 0.0], [0.0016200720565393567, 0.00047640615957789123, 0.00042596596176736057, 0.9974775910377502], [1.475426771117581e-21, 1.0, 1.8066579971765623e-18, 6.021091302906203e-31], [3.030027669409552e-41, 1.0, 5.348475978634962e-41, 0.0], [1.0, 2.1745282112367625e-26, 7.699340200134354e-36, 0.0], [2.642137762090742e-22, 9.91804208205771e-11, 1.0, 6.081954260394717e-27], [1.0, 0.0, 0.0, 0.0], [1.0, 0.0, 0.0, 0.0], [8.328681787553448e-30, 6.53354247535042e-15, 1.0, 2.63277228977391e-36], [0.0, 1.0, 0.0, 0.0], [0.0, 1.0, 3.5032461608120427e-44, 0.0], [0.0, 1.0, 0.0, 0.0], [1.0, 2.8219348474573166e-41, 0.0, 0.0], [2.3984807280601423e-16, 2.0815553725128666e-09, 1.0, 2.385582262695683e-20], [2.595502345214391e-17, 3.3056074544290937e-10, 1.0, 1.132721461056761e-21], [1.0, 0.0, 0.0, 0.0], [3.7724455264375034e-17, 7.437488958039751e-10, 1.0, 2.2708387811923316e-21], [0.0, 1.0, 0.0, 0.0], [1.0, 7.262798429323868e-30, 2.841615804129066e-37, 0.0], [0.0, 1.0, 0.0, 0.0], [1.0847958815951575e-12, 1.6251352974450128e-07, 0.9999998807907104, 8.713706919881989e-16], [1.0, 0.0, 0.0, 0.0], [1.0, 4.390874098971897e-34, 2.3842551917728458e-34, 0.0], [1.2675113806680773e-25, 1.0, 2.0272827603578734e-21, 1.1115502096151157e-36], [1.4351740858285864e-15, 3.619162525225761e-09, 1.0, 2.306610457198193e-19], [1.0, 0.0, 0.0, 0.0], [3.7448231906926643e-13, 8.179810606634419e-08, 0.9999998807907104, 2.246975121158318e-16], [1.100667077480466e-06, 1.617343580029761e-21, 0.999998927116394, 1.8357009882655104e-43], [0.0014388114213943481, 0.0006542488117702305, 0.00022369780344888568, 0.9976831674575806], [0.0016416361322626472, 0.00046773796202614903, 0.0004409807443153113, 0.9974495768547058], [2.5221149821397226e-11, 6.889430324008572e-07, 0.9999992847442627, 3.83923748098914e-14], [7.440004125980749e-21, 7.269722573255422e-06, 0.9999927282333374, 3.889943805581917e-23], [2.045895757914233e-41, 5.06648674488355e-20, 1.0, 0.0], [0.0019076430471614003, 0.00031924183713272214, 0.0009535291464999318, 0.9968196153640747], [3.225293783053385e-23, 1.0, 8.273513220529175e-24, 2.2256619479814664e-34], [1.0, 7.588046499159102e-28, 1.6815581571897805e-43, 0.0], [2.0523021013736785e-18, 1.8449289318489548e-10, 1.0, 8.210572848800849e-23], [1.0, 0.0, 0.0, 0.0], [0.0, 1.0, 0.0, 0.0], [0.0017305404180660844, 0.0004057983460370451, 0.000588326423894614, 0.9972752928733826], [1.0, 8.938566601385774e-32, 0.0, 0.0], [0.0, 1.0, 0.0, 0.0], [0.0, 1.0, 0.0, 0.0], [1.0, 0.0, 0.0, 0.0], [0.0, 1.0, 5.6276146327284654e-42, 0.0], [4.4702859469669676e-11, 0.9999947547912598, 5.304535534378374e-06, 2.8012294361282747e-15], [3.842897950811358e-13, 2.9401312495735965e-09, 1.0, 6.256118512226768e-17], [0.0, 1.0, 0.0, 0.0], [1.2870707985176456e-15, 9.025891145597598e-09, 1.0, 2.7720691237848444e-19], [1.3586857861014323e-08, 2.20379024540307e-06, 0.9999977350234985, 3.7256402823926393e-11], [0.0, 1.0, 0.0, 0.0], [1.0, 0.0, 0.0, 0.0], [3.0217287762655993e-19, 1.2055248466147361e-10, 1.0, 9.378516444404749e-24], [1.8228441846849387e-17, 2.1997255406080995e-10, 1.0, 6.726299627409052e-22], [0.0, 1.0, 0.0, 0.0], [1.0, 0.0, 0.0, 0.0], [0.0, 1.0, 0.0, 0.0], [0.0, 1.0, 0.0, 0.0], [1.0, 8.149599580625783e-23, 2.3320182916923607e-28, 2.3235629365163183e-37], [4.775852163910645e-29, 1.0, 2.1669314889046864e-29, 4.203895392974451e-44], [4.4521271134569015e-29, 1.4110069652940004e-14, 1.0, 1.947152151797201e-35], [5.245358036809478e-10, 1.8762375475489534e-06, 0.9999980926513672, 1.2201761953253842e-12], [1.8271813659520588e-32, 1.0, 3.4210401071721494e-33, 0.0], [1.0, 3.7239775738737164e-38, 1.7095841264762768e-43, 0.0], [3.0470399456252274e-29, 7.590524820559434e-16, 1.0, 4.1950106674535724e-36], [2.9040419846637633e-08, 2.9679067665711045e-06, 0.9999970197677612, 9.189718430668847e-11], [0.0, 1.0, 0.0, 0.0], [1.0, 1.401298464324817e-44, 1.2051166793193427e-43, 0.0], [0.0, 1.0, 0.0, 0.0], [0.0, 1.0, 0.0, 0.0], [1.4207929081709646e-38, 1.0, 1.3811029508569678e-39, 0.0], [1.0, 0.0, 0.0, 0.0], [1.0, 0.0, 0.0, 0.0], [1.0, 3.395213412296032e-22, 8.343794890846264e-28, 2.8364079960954736e-36], [1.0, 0.0, 0.0, 0.0], [0.0, 1.0, 0.0, 0.0], [6.284622561941733e-12, 1.6019988891002868e-08, 1.0, 2.1531204824707523e-15], [2.5776943579024807e-23, 2.9563485448753923e-13, 1.0, 6.026198684801204e-29], [1.4723790763004896e-14, 1.0, 3.528385808353185e-13, 2.3799910791323856e-21], [2.1668000727004255e-09, 3.4186186326223833e-07, 0.9999996423721313, 2.8210754045299158e-12], [2.810945107321189e-13, 3.6123213309480207e-09, 1.0, 4.971931199150033e-17], [0.0, 1.0, 0.0, 0.0], [0.0, 1.0, 0.0, 0.0], [1.0, 0.0, 0.0, 0.0], [1.551304973368417e-09, 3.027820639545098e-06, 0.9999970197677612, 4.6465526738759255e-12], [0.002097358228638768, 0.002931714989244938, 4.405279105412774e-05, 0.994926929473877], [0.0, 1.0, 0.0, 0.0], [6.785127541020715e-24, 1.7252560057662292e-12, 1.0, 3.131984891381749e-29], [1.0, 0.0, 0.0, 0.0], [3.3266059351610977e-10, 7.658088918560679e-08, 0.9999998807907104, 2.207127167662415e-13], [0.0017233766848221421, 0.0004134754999540746, 0.0005657213041558862, 0.997297465801239], [3.676235694442124e-19, 6.773247327590548e-12, 1.0, 3.985531185872814e-24], [1.0, 9.949219096706201e-44, 0.0, 0.0], [0.0, 1.0, 0.0, 0.0], [1.0, 0.0, 0.0, 0.0], [1.0175228951534211e-17, 5.846488293492769e-10, 1.0, 5.302744714347753e-22], [1.0, 1.7757462354727103e-26, 3.8295546538788784e-34, 5.044674471569341e-44], [0.0, 1.0, 0.0, 0.0], [5.314437429294073e-19, 8.9787448309675e-12, 1.0, 6.3669902404865076e-24], [1.0, 0.0, 0.0, 0.0], [0.0011139913694933057, 0.0016006602672860026, 3.509602538542822e-05, 0.9972502589225769], [1.0, 6.939471242880112e-37, 4.203895392974451e-44, 0.0], [4.917268415192929e-40, 1.0, 4.865308268135765e-42, 0.0], [1.0, 0.0, 0.0, 0.0], [0.0, 1.0, 0.0, 0.0], [1.8179716079376174e-22, 3.931158783915256e-12, 1.0, 1.1880703603955202e-27], [1.0, 1.188102997102795e-33, 0.0, 0.0], [0.0, 1.0, 0.0, 0.0], [6.627725035457388e-09, 7.224776709335856e-06, 0.9999927282333374, 2.827262729487856e-11], [0.0, 1.0, 0.0, 0.0], [1.0, 2.655475611815066e-37, 1.401298464324817e-44, 0.0], [3.0408516410641767e-21, 1.0, 5.393755786309718e-22, 4.777393888228443e-32], [1.0, 0.0, 0.0, 0.0], [0.0, 1.0, 0.0, 0.0], [2.512290098177772e-10, 3.409965587891986e-14, 1.0, 3.7252061133997005e-27], [1.600416865368689e-23, 2.591363755521936e-12, 1.0, 8.393400105458874e-29], [1.0, 8.403568822972244e-26, 4.9584215978256094e-34, 8.407790785948902e-45], [0.0, 1.0, 0.0, 0.0], [0.0017329255351796746, 0.00036785792326554656, 0.0007283649756573141, 0.9971708655357361], [0.0, 1.0, 0.0, 0.0], [0.0, 1.0, 0.0, 0.0], [1.0, 5.113204031799469e-19, 3.3779090774169648e-18, 1.521820971582455e-28], [1.0, 2.1019476964872256e-44, 0.0, 0.0], [0.0, 1.0, 0.0, 0.0], [1.0, 2.2130451498657452e-36, 3.9136864810127816e-41, 0.0], [0.0, 1.0, 0.0, 0.0], [3.6301965877783005e-08, 0.9999995231628418, 4.687179568918509e-07, 1.0781874004717196e-10], [1.0, 0.0, 0.0, 0.0], [4.407082337953838e-11, 2.67721611635352e-06, 0.9999973773956299, 8.999199904149643e-14], [1.0, 0.0, 0.0, 0.0], [1.1375892654808578e-20, 1.0, 1.3818289947124436e-19, 1.2268585262809028e-29], [5.521115949439779e-43, 1.0, 6.8523494905483555e-43, 0.0], [1.0, 0.0, 0.0, 0.0], [0.0013238604879006743, 0.0008189895306713879, 0.0001416841842001304, 0.9977154731750488], [0.0, 1.0, 0.0, 0.0], [0.001545156817883253, 0.0005042864941060543, 0.00038362809573300183, 0.9975669384002686], [0.0, 1.0, 0.0, 0.0], [1.9102683338484758e-22, 9.783655005937697e-13, 1.0, 6.860120572931044e-28], [0.0, 1.0, 0.0, 0.0], [4.3582255859764274e-11, 5.976435346610742e-08, 0.9999998807907104, 2.4242570841395694e-14], [0.001839373609982431, 0.00031971081625670195, 0.0009648590348660946, 0.9968760013580322], [3.9412807259909914e-15, 5.994524876484775e-10, 1.0, 3.1226716943669766e-19], [1.0, 0.0, 0.0, 0.0], [1.0, 0.0, 0.0, 0.0], [1.7678607036941685e-05, 7.667718455195427e-05, 0.9999055862426758, 5.899000043996239e-08], [0.0, 1.0, 0.0, 0.0], [0.0, 1.0, 9.024362110251822e-43, 0.0], [5.548822060853042e-21, 1.0, 1.20271162394867e-21, 3.2561741298144847e-31], [1.0, 3.187755233441258e-30, 1.4482896070274855e-39, 0.0], [1.0, 0.0, 0.0, 0.0], [0.0, 1.0, 0.0, 0.0], [0.0, 1.0, 1.3816802858242696e-42, 0.0], [2.170632304252132e-19, 1.0, 1.1013618242665896e-20, 1.1753032624606178e-29], [6.062390534597139e-24, 1.0, 3.506717386636084e-23, 2.5471326762543656e-35], [2.2457328965191925e-12, 7.262975998401089e-08, 0.9999998807907104, 1.1917451812380546e-15], [4.298671850917687e-21, 2.6569826339084557e-09, 1.0, 1.5470399530019707e-24], [1.0, 0.0, 0.0, 0.0], [0.0, 1.0, 0.0, 0.0], [0.0, 1.0, 0.0, 0.0], [2.552204644889934e-24, 1.0, 5.103133800303739e-25, 5.6024416622737835e-36], [1.1788492848552323e-08, 4.168139184912434e-06, 0.9999958276748657, 4.1324114269380985e-11], [0.0, 1.0, 0.0, 0.0], [1.113361386980196e-30, 1.0, 2.0300557320165206e-26, 7.146622168056567e-44], [1.0, 7.473346302839295e-34, 5.23090703747811e-41, 0.0], [1.0, 1.579152154355144e-19, 5.824265137496752e-35, 5.0064264223491656e-36], [2.5872867581711034e-07, 2.8080339689040557e-05, 0.9999716281890869, 5.310139439274053e-09], [1.0, 0.0, 0.0, 0.0], [1.401298464324817e-45, 1.0, 1.401298464324817e-45, 0.0], [0.0, 1.0, 0.0, 0.0], [2.410943264847389e-19, 4.5016768090988535e-11, 1.0, 5.206725732478391e-24], [1.0, 0.0, 0.0, 0.0], [4.282759094061247e-15, 4.213801307884069e-09, 1.0, 6.014654089626336e-19], [1.0, 2.547695723185753e-28, 2.8794047655515534e-36, 0.0], [0.0, 1.0, 0.0, 0.0], [5.290177970800965e-22, 2.652993276452964e-12, 1.0, 3.250099996162769e-27], [8.971440172830316e-22, 7.187213324488795e-11, 1.0, 2.0225424481918727e-26], [1.7824379946202804e-26, 9.161270341244334e-15, 1.0, 8.021129700893855e-33], [1.0, 0.0, 0.0, 0.0], [1.2348797126575447e-19, 1.0, 6.111961859128273e-18, 1.151543654552758e-27], [0.0, 1.0, 0.0, 0.0], [3.188385666597071e-11, 7.3400229894105e-07, 0.9999992847442627, 4.981180195423075e-14], [1.0, 4.203895392974451e-45, 0.0, 0.0], [2.3483310174523183e-18, 2.7179607522964666e-11, 1.0, 4.661569362201298e-23], [1.082365702278666e-19, 2.816282276829618e-11, 1.0, 1.4923722867006072e-24], [0.0014787418767809868, 0.0006367849418893456, 0.00023466434504371136, 0.9976498484611511], [0.0, 1.0, 0.0, 0.0], [0.0, 1.0, 0.0, 0.0], [0.0, 1.0, 0.0, 0.0], [1.0, 0.0, 0.0, 0.0], [1.0, 0.0, 0.0, 0.0], [7.357648344752388e-12, 1.184832711942363e-07, 0.9999998807907104, 5.150409246768191e-15], [1.0, 2.402785457300799e-38, 0.0, 0.0], [4.3629419151493703e-26, 1.8623313611729198e-13, 1.0, 7.373280674819518e-32], [1.0, 0.0, 0.0, 0.0], [1.0, 3.4839994453061106e-29, 4.067299350605396e-33, 0.0], [0.0, 1.0, 0.0, 0.0], [0.0015503069153055549, 0.0005189664661884308, 0.0003598344628699124, 0.9975709319114685], [0.0, 1.0, 0.0, 0.0], [1.0, 1.2611686178923354e-44, 1.14906474074635e-43, 0.0], [0.0, 1.0, 0.0, 0.0], [1.0, 0.0, 0.0, 0.0], [1.0, 0.0, 0.0, 0.0], [0.0, 1.0, 0.0, 0.0], [1.0, 0.0, 0.0, 0.0], [1.0, 0.0, 0.0, 0.0], [1.0, 1.3608541880474742e-39, 0.0, 0.0], [0.0, 1.0, 0.0, 0.0], [6.588702260087761e-31, 1.0, 4.655167302360409e-25, 1.0229478789571165e-43], [0.0016155348857864738, 0.00046034686965867877, 0.0004596063809003681, 0.9974645376205444], [1.7869993679253682e-11, 1.0, 1.446948005856541e-09, 4.742406710965595e-16], [5.593202637155237e-11, 4.080234106140779e-08, 1.0, 2.9095585126317006e-14], [2.2015050893386956e-10, 3.981881945946952e-06, 0.9999960660934448, 6.605686050237258e-13], [1.0, 1.4027999510904975e-23, 4.5188235720638006e-29, 1.0953016830849855e-38], [0.0, 1.0, 0.0, 0.0], [1.0184164983691621e-16, 1.4419200278226185e-09, 1.0, 8.195154593962741e-21], [9.054348243386912e-11, 1.2432806784090644e-07, 0.9999998807907104, 7.022374218582095e-13], [1.0, 0.0, 0.0, 0.0], [1.0, 5.851492241102241e-38, 1.1630777253895982e-43, 0.0], [6.625702764218033e-10, 4.828578767046565e-06, 0.9999951124191284, 2.227816672459304e-12], [1.0, 0.0, 0.0, 0.0], [9.780000658989091e-20, 1.0587015639162978e-11, 1.0, 1.1411465625776983e-24], [4.86531170906801e-09, 4.528450517682359e-06, 0.9999954700469971, 1.75358460391406e-11], [0.0, 1.0, 0.0, 0.0], [0.0, 1.0, 0.0, 0.0], [0.0, 1.0, 0.0, 0.0], [3.3456026143907636e-11, 5.653078574141546e-07, 0.9999994039535522, 4.7370388725964316e-14], [5.913998174764577e-35, 1.0, 1.6935784954167588e-38, 0.0], [4.06468020225497e-32, 1.8114629404623726e-16, 1.0, 2.785715486049913e-39], [0.0, 1.0, 0.0, 0.0], [0.0, 1.0, 0.0, 0.0], [1.0, 1.7992146059721554e-20, 2.5027698442625234e-27, 1.2641598693238972e-33], [1.0, 1.0702616108833419e-27, 6.979557329080806e-30, 7.006492321624085e-45], [1.0, 4.708373973348585e-31, 4.0023043577701114e-32, 0.0], [1.0, 1.6407335033311289e-31, 3.758928479911213e-39, 0.0], [1.9133495135492673e-11, 1.0, 1.0121708972268134e-13, 1.6292160250057587e-21], [0.0, 1.0, 0.0, 0.0], [1.0, 1.6675451725465323e-43, 0.0, 0.0]]\n",
      "\n",
      "Index of the maximum value:\n",
      "0\n"
     ]
    }
   ],
   "source": [
    "# Assuming `outputs` is your model's output\n",
    "\n",
    "# Print the model's output\n",
    "print(\"Model's output:\")\n",
    "print(outputs)\n",
    "\n",
    "# Get the predicted class for each input\n",
    "predicted_classes = torch.argmax(outputs, dim=1)\n",
    "\n",
    "# Print the predicted classes\n",
    "print(\"\\nPredicted classes:\")\n",
    "print(predicted_classes)\n",
    "\n",
    "# Get the confidence score of the predicted class for each input\n",
    "confidence_scores, _ = torch.max(outputs, dim=1)\n",
    "\n",
    "# Print the confidence scores\n",
    "print(\"\\nConfidence scores:\")\n",
    "print(confidence_scores)\n",
    "\n",
    "# Remove single-dimensional entries from the shape of the output\n",
    "outputs_squeezed = torch.squeeze(outputs)\n",
    "\n",
    "# Print the squeezed output\n",
    "print(\"\\nSqueezed output:\")\n",
    "print(outputs_squeezed.tolist())\n",
    "\n",
    "# Get the index of the maximum value\n",
    "max_index = torch.argmax(outputs_squeezed)\n",
    "\n",
    "# Print the index of the maximum value\n",
    "print(\"\\nIndex of the maximum value:\")\n",
    "print(max_index.item())"
   ]
  }
 ],
 "metadata": {
  "kernelspec": {
   "display_name": "Python 3",
   "language": "python",
   "name": "python3"
  },
  "language_info": {
   "codemirror_mode": {
    "name": "ipython",
    "version": 3
   },
   "file_extension": ".py",
   "mimetype": "text/x-python",
   "name": "python",
   "nbconvert_exporter": "python",
   "pygments_lexer": "ipython3",
   "version": "3.10.11"
  }
 },
 "nbformat": 4,
 "nbformat_minor": 2
}
